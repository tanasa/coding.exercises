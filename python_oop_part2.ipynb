{
 "cells": [
  {
   "cell_type": "code",
   "execution_count": 1,
   "metadata": {},
   "outputs": [],
   "source": [
    "# How to define and use classes (https://www.murach.com/shop/murach-s-python-programming-detail)\n",
    "\n",
    "# chapter 15"
   ]
  },
  {
   "cell_type": "code",
   "execution_count": 2,
   "metadata": {},
   "outputs": [],
   "source": [
    "# INHERITANCE :\n",
    "\n",
    "# parent class, superclass\n",
    "# child class, subclass\n",
    "\n",
    "# A subclass can add new attributes and methods to the superclass\n",
    "# It can also override a method from the superclass, \n",
    "# by providing its own version of the method."
   ]
  },
  {
   "cell_type": "code",
   "execution_count": 3,
   "metadata": {},
   "outputs": [],
   "source": [
    "# To define a subclass\n",
    "# class SubClassName(SuperClassName):\n",
    "\n",
    "# To call a method or constructor of the superclass\n",
    "# SuperClassName.methodName(self[, argumentList])"
   ]
  },
  {
   "cell_type": "code",
   "execution_count": 4,
   "metadata": {},
   "outputs": [],
   "source": [
    "from dataclasses import dataclass\n",
    "\n",
    "@dataclass\n",
    "class Product:\n",
    "    name:str = \"\"\n",
    "    price:float = 0.0\n",
    "    discountPercent:int = 0\n",
    "\n",
    "    def getDiscountAmount(self):\n",
    "        return self.price * self.discountPercent / 100\n",
    "\n",
    "    def getDiscountPrice(self):\n",
    "        return self.price - self.getDiscountAmount()\n",
    "\n",
    "    def getDescription(self):\n",
    "        return self.name"
   ]
  },
  {
   "cell_type": "code",
   "execution_count": 5,
   "metadata": {},
   "outputs": [],
   "source": [
    "# The code for the Book subclass\n",
    "\n",
    "@dataclass\n",
    "class Book(Product): # Python calls the constructor of the superclass\n",
    "     author:str = \"\" # add another attribute to the\n",
    "    \n",
    "     # override the getDescription method\n",
    "     def getDescription(self):\n",
    "         return f\"{Product.getDescription(self)} by\" f\"{self.author}\"\n",
    "\n",
    "# The code for the subclass\n",
    "@dataclass\n",
    "class Book(Product): # Python calls the constructor of the superclass\n",
    "     author:str = \"\" # add another attribute\n",
    "    \n",
    "     # override the getDescription method\n",
    "     def getDescription(self):\n",
    "         return f\"{Product.getDescription(self)} by \" f\"{self.author}\"\n",
    "        \n",
    " \n",
    "@dataclass\n",
    "class Movie(Product): # Python calls the constructor of the superclass\n",
    "     year:int = \"\" # add another attribute\n",
    "    \n",
    "     # override the getDescription method\n",
    "     def getDescription(self):\n",
    "         return f\"{Product.getDescription(self)} \" f\"({self.year})\"                "
   ]
  },
  {
   "cell_type": "code",
   "execution_count": 6,
   "metadata": {},
   "outputs": [],
   "source": [
    "# The code for the Book subclass with a constructor\n",
    "\n",
    "# class Book(Product):\n",
    "#     def __init__(self, name=\"\", price=0.0, discountPercent=0, author=\"\"):\n",
    "#\n",
    "      # call the constructor of the superclass\n",
    "#      Product.__init__(self, name, price, discountPercent)\n",
    "\n",
    "      # set the author\n",
    "#      self.author = author"
   ]
  },
  {
   "cell_type": "code",
   "execution_count": 7,
   "metadata": {},
   "outputs": [],
   "source": [
    "# POLYMORPHISMS\n",
    "\n",
    "# if we access a method of a superclass, and the method is overwritten in the subclass, \n",
    "# polymorphism determines which method is executed first based on object's type."
   ]
  },
  {
   "cell_type": "code",
   "execution_count": 8,
   "metadata": {},
   "outputs": [
    {
     "name": "stdout",
     "output_type": "stream",
     "text": [
      "PRODUCTS\n",
      "\n",
      "Stanley 13 Ounce Wood Hammer\n",
      "\n",
      "The Big Short by Michael Lewis\n",
      "\n",
      "The Holy Grail - DVD (1975)\n",
      "\n"
     ]
    }
   ],
   "source": [
    "# Code that uses the overridden methods\n",
    "\n",
    "def main():\n",
    "    \n",
    "    # a tuple of Product objects\n",
    "    products = (\n",
    "\n",
    "        Product(\"Stanley 13 Ounce Wood Hammer\", 12.99, 62),\n",
    "        Book(\"The Big Short\", 15.95, 34, \"Michael Lewis\"),\n",
    "        Movie(\"The Holy Grail - DVD\", 14.99, 68, 1975))\n",
    "    \n",
    "    print(\"PRODUCTS\")\n",
    "    print(\"\")\n",
    "    \n",
    "    for product in products:\n",
    "        print(product.getDescription())\n",
    "        print()\n",
    "    \n",
    "if __name__ == \"__main__\":\n",
    "   main()"
   ]
  },
  {
   "cell_type": "code",
   "execution_count": 9,
   "metadata": {},
   "outputs": [],
   "source": [
    "# A function for checking the object's type : isinstance(object)"
   ]
  },
  {
   "cell_type": "code",
   "execution_count": 10,
   "metadata": {},
   "outputs": [
    {
     "name": "stdout",
     "output_type": "stream",
     "text": [
      "The Product Viewer program\n",
      "\n",
      "PRODUCTS\n",
      "1. Stanley 13 Ounce Wood Hammer\n",
      "\n",
      "2. The Big Short by Michael Lewis\n",
      "\n",
      "3. The Holy Grail - DVD (1975)\n",
      "\n",
      "Enter product number: 2\n",
      "PRODUCT DATA\n",
      "Name:             The Big Short\n",
      "Author:           Michael Lewis\n",
      "Discount price:   10.53\n",
      "\n",
      "View another product? (y/n): n\n",
      "\n",
      "Bye!\n"
     ]
    }
   ],
   "source": [
    "def show_product(product):\n",
    "    \n",
    "    w = 18\n",
    "    print(\"PRODUCT DATA\")\n",
    "    \n",
    "    print(f\"{'Name:':{w}}{product.name}\")\n",
    "\n",
    "    if isinstance(product, Book):\n",
    "        print(f\"{'Author:':{w}}{product.author}\")\n",
    "\n",
    "    if isinstance(product, Movie):\n",
    "        print(f\"{'Year:':{w}}{product.year}\")\n",
    "\n",
    "    print(f\"{'Discount price:':{w}}{product.getDiscountPrice():.2f}\")\n",
    "    \n",
    "    print()\n",
    "    \n",
    "def show_products(products):\n",
    "    print(\"PRODUCTS\")\n",
    "\n",
    "    for i, product in enumerate(products, start=1):\n",
    "         print(f\"{i}. {product.getDescription()}\")\n",
    "         print()\n",
    "        \n",
    "def get_products():\n",
    "    # return a tuple of Product, Book, and Movie objects\n",
    "      return (Product(\"Stanley 13 Ounce Wood Hammer\", 12.99, 62),\n",
    "              Book(\"The Big Short\", 15.95, 34, \"Michael Lewis\"),\n",
    "              Movie(\"The Holy Grail - DVD\", 14.99, 68, 1975))\n",
    "\n",
    "\n",
    "def get_product(products):\n",
    "    while True:\n",
    "        try:\n",
    "            \n",
    "            number = int(input(\"Enter product number: \"))\n",
    "            if number < 1 or number > len(products):\n",
    "                print(\"Product number out of range. Please try again.\")\n",
    "            else:\n",
    "                return products[number-1]\n",
    "        \n",
    "        except ValueError:\n",
    "            print(\"Invalid number. Please try again.\")\n",
    "    print()\n",
    "    \n",
    "\n",
    "def main():\n",
    "    print(\"The Product Viewer program\")\n",
    "    print()\n",
    "\n",
    "    products = get_products()\n",
    "    show_products(products)\n",
    "\n",
    "    choice = \"y\"\n",
    "    while choice.lower() == \"y\":\n",
    "          product = get_product(products)\n",
    "      \n",
    "          show_product(product)\n",
    "\n",
    "          choice = input(\"View another product? (y/n): \")\n",
    "          print()\n",
    "    \n",
    "    print(\"Bye!\")\n",
    "    \n",
    "if __name__ == \"__main__\":\n",
    "    main()"
   ]
  },
  {
   "cell_type": "code",
   "execution_count": null,
   "metadata": {},
   "outputs": [],
   "source": [
    "# __str__ METHOD : \n",
    "\n",
    "# it is a method that is called when the object needs to be converted to a string\n",
    "# returns the name of the class and the value of the names and attributes"
   ]
  },
  {
   "cell_type": "code",
   "execution_count": null,
   "metadata": {},
   "outputs": [],
   "source": [
    "# __iter__ METHOD : \n",
    "\n",
    "# __iter__(self) : returns the iterator for an object and \n",
    "# initializes the index of the iterator\n",
    "# We we can use the \"yield\" keyword in an iterator.\n",
    "\n",
    "# An ITERATOR : allows the items to be processed one at a time in a sequence"
   ]
  },
  {
   "cell_type": "code",
   "execution_count": 12,
   "metadata": {},
   "outputs": [
    {
     "name": "stdout",
     "output_type": "stream",
     "text": [
      "The Dice Roller program\n",
      "\n",
      "YOUR ROLL: 1 1 2 1 3 \n",
      "\n",
      "Roll again? (y/n): y\n",
      "YOUR ROLL: 1 6 4 6 1 \n",
      "\n",
      "Roll again? (y/n): n\n",
      "Bye!\n"
     ]
    }
   ],
   "source": [
    "def main():\n",
    "    print(\"The Dice Roller program\\n\")\n",
    "    \n",
    "    # Uncomment the following lines to allow user input for the number of dice\n",
    "    # try:\n",
    "    #     count = int(input(\"Enter the number of dice to roll: \"))\n",
    "    #     if count <= 0:\n",
    "    #         raise ValueError\n",
    "    # except ValueError:\n",
    "    #     print(\"Please enter a valid positive integer.\")\n",
    "    #     return\n",
    "\n",
    "    count = 5  # Default number of dice\n",
    "    \n",
    "    # Create a Dice object and add Die objects to it\n",
    "    dice = Dice()\n",
    "    for _ in range(count):\n",
    "        die = Die()\n",
    "        dice.addDie(die)\n",
    "    \n",
    "    # Initial roll\n",
    "    dice.rollAll()\n",
    "    print(\"YOUR ROLL: \", end=\"\")\n",
    "    \n",
    "    for die in dice:\n",
    "        print(die.value, end=\" \")\n",
    "    print(\"\\n\")\n",
    "    \n",
    "    # Interactive rolling\n",
    "    \n",
    "    while True:\n",
    "        choice = input(\"Roll again? (y/n): \").strip().lower()\n",
    "    \n",
    "        if choice == 'y':\n",
    "            dice.rollAll()\n",
    "            print(\"YOUR ROLL: \", end=\"\")\n",
    "            for die in dice:\n",
    "                print(die.value, end=\" \")\n",
    "            print(\"\\n\")\n",
    "        elif choice == 'n':\n",
    "            print(\"Bye!\")\n",
    "            break\n",
    "        else:\n",
    "            print(\"Invalid input. Please enter 'y' or 'n'.\")\n",
    "\n",
    "if __name__ == \"__main__\":\n",
    "    main()"
   ]
  }
 ],
 "metadata": {
  "kernelspec": {
   "display_name": "Python 3",
   "language": "python",
   "name": "python3"
  },
  "language_info": {
   "codemirror_mode": {
    "name": "ipython",
    "version": 3
   },
   "file_extension": ".py",
   "mimetype": "text/x-python",
   "name": "python",
   "nbconvert_exporter": "python",
   "pygments_lexer": "ipython3",
   "version": "3.8.10"
  }
 },
 "nbformat": 4,
 "nbformat_minor": 4
}
