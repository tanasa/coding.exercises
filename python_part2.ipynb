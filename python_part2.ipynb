{
 "cells": [
  {
   "cell_type": "code",
   "execution_count": 1,
   "id": "2fb392aa-4905-438d-82fd-4a8605b95cfd",
   "metadata": {},
   "outputs": [],
   "source": [
    "# a material adapted from : Xiaoping Zhang\n",
    "# School of Mathematics and Statistics, Wuhan University"
   ]
  },
  {
   "cell_type": "code",
   "execution_count": 2,
   "id": "b58d4b3d-2f79-48c0-9afd-c1a1c873f202",
   "metadata": {},
   "outputs": [],
   "source": [
    "# Python is an object-oriented language and classes form the basis for all data types.\n",
    "# Python is a dynamically typed language, as there is no advance\n",
    "# declaration associating an identifier with a particular data type."
   ]
  },
  {
   "cell_type": "code",
   "execution_count": 3,
   "id": "2f6608c1-5077-4e38-9e00-ef4259dc072d",
   "metadata": {},
   "outputs": [],
   "source": [
    "# Identifiers : 33\n",
    "\n",
    "# 33 specially reserved words that cannot be used as identifiers\n",
    "# False as continue else from in not\n",
    "# return yield None assert def except global\n",
    "# is or try True break del finally\n",
    "# if lambda pass while and class elif\n",
    "# for import nonlocal raise with"
   ]
  },
  {
   "cell_type": "code",
   "execution_count": 4,
   "id": "1e0d9642-a0dd-48dd-abe5-f7f67e30e5df",
   "metadata": {},
   "outputs": [
    {
     "data": {
      "text/plain": [
       "tuple"
      ]
     },
     "execution_count": 4,
     "metadata": {},
     "output_type": "execute_result"
    }
   ],
   "source": [
    "# Instantiation : \n",
    "# The process of creating a new instance of a class is known as instantiation\n",
    "\n",
    "# In general, the syntax for instantiating an object is to invoke the constructor of a class.\n",
    "# Given a class named Widget, we could create an instance using\n",
    "# • w = Widget(), if the constructor does not require any parameters\n",
    "# • w = Widget(a, b, c), if the constructor does require parameters\n",
    "\n",
    "# Another way to indirectly create a new instance of a class is to call a function that creates and returns such an instance.\n",
    "# eg : sorted()\n",
    "\n",
    "# Python’s classes may define one or more methods (also known as member functions), which are invoked on a specific instance of \n",
    "# a class using the dot (“.”) operator.\n",
    "# eg : data.sort()\n",
    "\n",
    "# Some methods return information about the state of an object, but do not change that state. These are known as ACCESSORS.\n",
    "# Other methods, such as the sort method of the list class, do change the state of an object. \n",
    "# These methods are known as MUTATORS or UPDATE methods.\n",
    "\n",
    "# A class is immutable if each object of that class has a fixed value upon instantiation that cannot subsequently be changed.\n",
    "\n",
    "# OBJECTS in Python :\n",
    "\n",
    "# Int class : int()\n",
    "# Float class : float()\n",
    "\n",
    "# The list, tuple, and str classes are sequence types in Python, representing a collection of values in which the ORDER is SIGNIFICANT.\n",
    "# • The LIST class is the most general, representing a sequence of arbitrary objects (akin to an “array” in other languages).\n",
    "# • The TUPLE class is an immutable version of the list class, benefiting from a streamlined internal representation.\n",
    "# • The STR class is specially designed for representing an immutable sequence of text characters.\n",
    "\n",
    "# List class : list() (python uses [])\n",
    "# Tuple class : tuple() (python uses ())\n",
    "# String class : str()\n",
    "\n",
    "# There is one important subtlety. To express a tuple of length one as a literal, a comma must be placed after the element, \n",
    "# but within the parentheses.\n",
    "# (17 , ) # one element tuple\n",
    "# (17) # a simple numeric\n",
    "\n",
    "type(17)\n",
    "type((17,))\n",
    "\n",
    "# Set class : a collection of elements, without duplicates, and without an inherent order to those elements.\n",
    "# Python uses curly braces { and } as delimiters.\n",
    "\n",
    "# Dictionary : a mapping from a set of distinct KEYS to associated VALUES. \n",
    "# A dictionary literal also uses curly braces, and because dictionaries were introduced in Python prior to sets, \n",
    "# the literal form { } produces an empty dictionary."
   ]
  },
  {
   "cell_type": "code",
   "execution_count": 5,
   "id": "fa6becc2-1bce-49bd-82d7-3a5d83772b0b",
   "metadata": {},
   "outputs": [
    {
     "name": "stdout",
     "output_type": "stream",
     "text": [
      "-6\n",
      "a & b = 1\n",
      "a | b = 7\n",
      "a ^ b = 6\n",
      "~a = -6\n",
      "a << 1 = 10\n",
      "a >> 1 = 2\n"
     ]
    }
   ],
   "source": [
    "# BITWISE OPERATORS :\n",
    "\n",
    "# ~ bitwise complement\n",
    "# & bitwise and\n",
    "# | bitwise or\n",
    "# ^ bitwise exclusive-or\n",
    "# << shift bits left, filling in with zeros\n",
    "# >> shift bits right, filling in with sign bit\n",
    "\n",
    "# Bitwise operators in Python are used to perform operations on the individual bits of integer types. \n",
    "# They can manipulate binary representations of integers directly. \n",
    "\n",
    "# AND (&):\n",
    "# Compares each bit of two numbers and returns 1 if both bits are 1.\n",
    "\n",
    "a = 5  # (binary: 0101)\n",
    "b = 3  # (binary: 0011)\n",
    "result = a & b  # (binary: 0001) → result is 1\n",
    "\n",
    "# OR (|):\n",
    "# Compares each bit of two numbers and returns 1 if at least one of the bits is 1.\n",
    "\n",
    "result = a | b  # (binary: 0111) → result is 7\n",
    "\n",
    "# XOR (^):\n",
    "# Compares each bit of two numbers and returns 1 if the bits are different.\n",
    "\n",
    "result = a ^ b  # (binary: 0110) → result is 6\n",
    "\n",
    "# NOT (~):\n",
    "# Inverts the bits of the number (0 becomes 1 and 1 becomes 0).\n",
    "\n",
    "result = ~a  # (binary: ...11111010) → result is -6 (two's complement representation)\n",
    "print(result)\n",
    "\n",
    "# Left Shift (<<):\n",
    "# Shifts the bits of the number to the left by a specified number of positions. \n",
    "result = a << 1  # (binary: 1010) → result is 10\n",
    "\n",
    "# Right Shift (>>):\n",
    "# Shifts the bits of the number to the right by a specified number of positions. \n",
    "result = a >> 1  # (binary: 0010) → result is 2\n",
    "\n",
    "# Summary of Examples : \n",
    "a = 5  # 0101 in binary\n",
    "b = 3  # 0011 in binary\n",
    "\n",
    "print(\"a & b =\", a & b)  # Output: 1 (0001)\n",
    "print(\"a | b =\", a | b)  # Output: 7 (0111)\n",
    "print(\"a ^ b =\", a ^ b)  # Output: 6 (0110)\n",
    "print(\"~a =\", ~a)        # Output: -6 (two's complement representation)\n",
    "print(\"a << 1 =\", a << 1) # Output: 10 (1010)\n",
    "print(\"a >> 1 =\", a >> 1) # Output: 2 (0010)"
   ]
  },
  {
   "cell_type": "code",
   "execution_count": 6,
   "id": "bf93620e-0aba-4783-a246-4612e77a8a54",
   "metadata": {},
   "outputs": [],
   "source": [
    "# To convert a decimal number to binary:\n",
    "\n",
    "# Divide the number by 2.\n",
    "# Record the remainder (0 or 1).\n",
    "# Continue dividing the quotient by 2 until it becomes 0.\n",
    "# The binary representation is the remainders read in reverse order.\n",
    "\n",
    "# Example: Convert 13 to binary:\n",
    "# 13 ÷ 2 = 6, remainder 1\n",
    "# 6 ÷ 2 = 3, remainder 0\n",
    "# 3 ÷ 2 = 1, remainder 1\n",
    "# 1 ÷ 2 = 0, remainder 1\n",
    "# Read from bottom to top: 1101\n",
    "\n",
    "# To convert a binary number to an integer, you can use the positional value of each bit:"
   ]
  },
  {
   "cell_type": "code",
   "execution_count": 7,
   "id": "72416721-1d13-4b16-9c8f-c697de109166",
   "metadata": {},
   "outputs": [],
   "source": [
    "# SEQUENCE OPERATORS\n",
    "\n",
    "# Each of Python’s built-in sequence types (str, tuple and list) support the following operator syntaxes:\n",
    "\n",
    "# s[j] element at index j\n",
    "# s[start:stop] slice including indices [start, stop)\n",
    "# s[start:stop:step] slice including indices start, start+step,\n",
    "# start+2*step, ..., up to but not equal to stop\n",
    "# s+t concatenation of sequences\n",
    "# k*s shorthand for s+s++...(k times)\n",
    "# val in s containment check\n",
    "# val not in s non-containment check\n"
   ]
  },
  {
   "cell_type": "code",
   "execution_count": 8,
   "id": "f95ab220-68f8-4797-9c3c-ff53589659b4",
   "metadata": {},
   "outputs": [],
   "source": [
    "# Sets and frozensets support the following operators:\n",
    "\n",
    "# key in s containment check\n",
    "# key not in s non-containment check\n",
    "# s1 == s2 s1 is equivalent to s2\n",
    "# s1 != s2 s1 is not equivalent to s2\n",
    "# s1 <= s2 s1 is subset of s2\n",
    "# s1 < s2 s1 is proper subset of s2\n",
    "# s1 >= s2 s1 is superset of s2\n",
    "# s1 > s2 s1 is proper superset of s2\n",
    "# s1 | s2 the union of s1 and s2\n",
    "# s1 & s2 the intersection of s1 and s2\n",
    "# s1 - s2 the set of elements in s1 but not s2\n",
    "# s1 ^ s2 the set of elements in precisely one of s1 or s2"
   ]
  },
  {
   "cell_type": "code",
   "execution_count": 9,
   "id": "4631ad62-a7bc-4be4-b76f-b60abc7b1b54",
   "metadata": {},
   "outputs": [],
   "source": [
    "# Dictionaries support the following operators:\n",
    "\n",
    "# d[key] value associated with given key\n",
    "# d[key] = value set (or reset) the value associated with given key\n",
    "# del d[key] remove key and its associated value from dictionary\n",
    "# key in d containment check\n",
    "# key not in d non-containment check\n",
    "# d1 == d2 d1 is equivalent to d2\n",
    "# d1 != d2 d1 is not equivalent to d2"
   ]
  },
  {
   "cell_type": "code",
   "execution_count": 10,
   "id": "78e756bb-40d2-49a3-aeab-bf2cfda3cc63",
   "metadata": {},
   "outputs": [
    {
     "name": "stdout",
     "output_type": "stream",
     "text": [
      "10\n"
     ]
    },
    {
     "data": {
      "text/plain": [
       "False"
      ]
     },
     "execution_count": 10,
     "metadata": {},
     "output_type": "execute_result"
    }
   ],
   "source": [
    "# Extended assignment operator : \n",
    "\n",
    "count = 0\n",
    "count = count + 5\n",
    "count += 5 \n",
    "print(count)\n",
    "\n",
    "# Compound expressions :\n",
    "\n",
    "# a chained assignment, such as : \n",
    "x = y = 0\n",
    "# a chaining of comparison operators, such as :\n",
    "1 <= x+y <= 10"
   ]
  },
  {
   "cell_type": "code",
   "execution_count": 11,
   "id": "4a3bdbae-5a8c-4d77-a836-69b19f86ad5f",
   "metadata": {},
   "outputs": [
    {
     "name": "stdout",
     "output_type": "stream",
     "text": [
      "1\n",
      "2\n",
      "3\n",
      "we have found the target 2\n",
      "0\n",
      "1\n",
      "2\n",
      "4\n",
      "5\n"
     ]
    }
   ],
   "source": [
    "# Conditionals\n",
    "\n",
    "# Loops \n",
    "\n",
    "# Python offers two distinct looping constructs.\n",
    "# A while loop allows general repetition based upon the repeated testing of a Boolean condition.\n",
    "# A for loop provides convenient iteration of values from a defined series.\n",
    "\n",
    "# To loop over all possible indices of the list : python provides a built-in class named range that generates integer sequences.\n",
    "\n",
    "data = [1,2,3,4]\n",
    "big_index = 0\n",
    "for j in range ( len ( data )):\n",
    "    if data [j] > data [ big_index ]:\n",
    "       big_index = j\n",
    "       print(big_index)\n",
    "\n",
    "# BREAK statement that immediately terminate a while or for loop when executed within its body.\n",
    "\n",
    "found = False \n",
    "target = 2\n",
    "for item in data :\n",
    "    if item == target :\n",
    "       found = True\n",
    "       print(\"we have found the target\", target)\n",
    "       break\n",
    "\n",
    "# CONTINUE statement that causes the current iteration of a loop body to stop, \n",
    "# but with subsequent passes of the loop proceeding as expected.\n",
    "\n",
    "for x in range (7) :\n",
    "    if (x == 3 or x ==6) :\n",
    "        continue\n",
    "    print (x)\n"
   ]
  },
  {
   "cell_type": "code",
   "execution_count": 12,
   "id": "c27a8dff-b10d-4557-9bf1-f4ac30504bca",
   "metadata": {},
   "outputs": [
    {
     "name": "stdout",
     "output_type": "stream",
     "text": [
      "1\n",
      "3\n"
     ]
    }
   ],
   "source": [
    "# FUNCTIONS\n",
    "# METHODS\n",
    "\n",
    "\n",
    "# FUNCTIONS : \n",
    "data = [1,2,2,3,4,5,6,9]\n",
    "target = 2\n",
    "def count (data , target ):\n",
    "    n = 0\n",
    "    for item in data :\n",
    "        if item == target :\n",
    "           n += 1\n",
    "    return n\n",
    "\n",
    "# In the context of a function signature, \n",
    "# the identifiers used to describe the expected parameters are known as FORMAL parameters, \n",
    "# and the objects sent by the caller when invoking the function are the ACTUAL parameters.\n",
    "\n",
    "# Python provides means for functions to support more than one possible calling signature. \n",
    "# Such a function is said to be POLYMORPHIC. The functions can declare one or more default values for parameters, \n",
    "# thereby allowing the caller to invoke a function with varying numbers of actual parameters.\n",
    "\n",
    "# If a default parameter value is present for one parameter, it must be present for all further parameters.\n",
    "\n",
    "# A polymorphic function : range()\n",
    "# Three calling syntax:\n",
    "# • range(n)\n",
    "# • range(start, stop)\n",
    "# • range(start, stop, step)\n",
    "\n",
    "for i in range(1,5,2) :\n",
    "    print(i)\n",
    "\n",
    "# POSITIONAL ARGUMENTS :\n",
    "# With signature foo(a=10, b=20, c=30), parameters sent by the caller are matched, in the given order, to the formal parameters. \n",
    "# An invocation of foo(5) indicates that a=5, while b and c are assigned their default values.\n",
    "\n",
    "# KEYWORD ARGUMENTS : \n",
    "# A keyword argument is specified by explicitly assigning an actual parameter to a formal parameter by name.\n",
    "# With the above definition of function foo, a call foo(c=5) will invoke the function with parameters a=10, b=20, c=5.\n",
    "\n",
    "# pow(x, y)\n",
    "# it returns the value xy (as an integer if x and y are integers); equivalent to x**y"
   ]
  },
  {
   "cell_type": "code",
   "execution_count": 13,
   "id": "04822deb-e47e-467e-95e3-8f75e25cbf38",
   "metadata": {},
   "outputs": [
    {
     "name": "stdin",
     "output_type": "stream",
     "text": [
      "Enter your age in years :  -1\n"
     ]
    },
    {
     "name": "stdout",
     "output_type": "stream",
     "text": [
      "Your target fat - burning heat rate is  134.9205\n"
     ]
    }
   ],
   "source": [
    "# INPUT : \n",
    "\n",
    "# input() # displays a prompt for input values\n",
    "\n",
    "age = int ( input (\"Enter your age in years : \"))\n",
    "max_heart_rate = 206.9 - (0.67 * age )\n",
    "target = 0.65 * max_heart_rate\n",
    "print (\"Your target fat - burning heat rate is \", target )\n",
    "\n",
    "# OUTPUT :\n",
    "\n",
    "# print()"
   ]
  },
  {
   "cell_type": "code",
   "execution_count": 14,
   "id": "e65845f5-2123-43fe-ac50-7a9eb0d2a8ff",
   "metadata": {},
   "outputs": [],
   "source": [
    "# FILES : \n",
    "\n",
    "# fp = open(\"sample.txt\", access_mode)\n",
    "\n",
    "# where access_mode is : r, w, a, rb, wb, ab\n",
    "\n",
    "# Calling Syntax Description\n",
    "# fp.read() Return the (remaining) contents of a readable file as a string.\n",
    "# fp.readline() Return (remainder of) the current line of a readable file as a STRING.\n",
    "# fp.readlines() Return all (remaining) lines of a readable file as a LISTS of STRINGS.\n",
    "\n",
    "# for line in fp: Iterate all (remaining) lines of a readable file.\n",
    "\n",
    "# fp.read(k) Return the next k bytes of a readable file as a string.\n",
    "# fp.seek(k) Change the current position to be at the k-th byte of the file.\n",
    "\n",
    "# fp.tell() Return the current position, measured as byte-offset from the start.\n",
    "\n",
    "# fp.write(string) Write given string at current position of the writable file.\n",
    "# fp.writelines(seq) Write each of the strings of the given sequence at the current position of the writable file. \n",
    "# This command does not insert any newlines, beyond those that are embedded in the strings.\n",
    "\n",
    "# print(...,file=fp) Redirect output of print function to the file."
   ]
  },
  {
   "cell_type": "code",
   "execution_count": null,
   "id": "43bd4935-63e0-471c-95a1-00b076a423ce",
   "metadata": {},
   "outputs": [],
   "source": []
  },
  {
   "cell_type": "code",
   "execution_count": 15,
   "id": "594c2fd2-b7a6-4413-b69b-42e4ec88cbae",
   "metadata": {},
   "outputs": [
    {
     "name": "stdout",
     "output_type": "stream",
     "text": [
      "None\n"
     ]
    },
    {
     "data": {
      "text/plain": [
       "10"
      ]
     },
     "execution_count": 15,
     "metadata": {},
     "output_type": "execute_result"
    }
   ],
   "source": [
    "# Exception handling : Raising an exception\n",
    "\n",
    "# Class Description\n",
    "# Exception A base class for most error types\n",
    "# NameError Raised if nonexistent identifier used\n",
    "# AttributeError Raised by syntax obj.foo, if obj has no member named foo\n",
    "# TypeError Raised when wrong type of parameter is sent to a function\n",
    "# EOFError Raised if 􀁯end of file􀁰reached for console or file input\n",
    "# IOError Raised upon failure of I/O operation (e.g., opening file)\n",
    "# StopIteration Raised by next(iterator) if no element\n",
    "# IndexError Raised if index to sequence is out of bounds\n",
    "# KeyError Raised if nonexistent key requested for set or dictionary\n",
    "# KeyboardInterrupt Raised if user types ctrl-C while program is executing\n",
    "# ValueError Raised when parameter has invalid value (e.g., sqrt (-5))\n",
    "# ZeroDivisionError Raised when any division operator used with 0 as divisor\n",
    "\n",
    "# Raising an Exception\n",
    "\n",
    "# If a function for computing a square root is sent a negative value as a parameter, it can raise an exception with the command:\n",
    "# raise ValueError (’x cannot be negative ’)\n",
    "\n",
    "def sqrt (x):\n",
    "    if not isinstance (x, (int , float )):\n",
    "       raise TypeError (\"x must be numeric\")\n",
    "    elif x < 0:\n",
    "       raise ValueError (\"x cannot be negative\")\n",
    "\n",
    "print(sqrt(5))\n",
    "# print(sqrt(-5))\n",
    "\n",
    "# A function :\n",
    "def sum1 ( values ):\n",
    "      total = 0\n",
    "      for v in values :\n",
    "          total += v\n",
    "      return total\n",
    "\n",
    "# can be rigourously written as :\n",
    "\n",
    "import collections \n",
    "def sum2 ( values ):\n",
    "    if not isinstance (values , collections.abc.Iterable):\n",
    "       raise TypeError (\"parameter must be an iterable type\")\n",
    "    total = 0\n",
    "    for v in values :\n",
    "        if not isinstance (v, (int , float )):\n",
    "           raise TypeError (\"elements must be numeric \")\n",
    "    total += v\n",
    "    return total\n",
    "\n",
    "sum1([1,2,3,4])\n",
    "#sum2([1,2,3,4,\"a\"])"
   ]
  },
  {
   "cell_type": "code",
   "execution_count": 16,
   "id": "9ea9ee89-1b59-4356-a65a-d15431867527",
   "metadata": {},
   "outputs": [
    {
     "name": "stdin",
     "output_type": "stream",
     "text": [
      "Enter your age in years : 2\n"
     ]
    }
   ],
   "source": [
    "# Exception handling : Catching an Exception\n",
    "\n",
    "# try :\n",
    "#  fp = open (’sample .txt ’)\n",
    "# except IOError as e:\n",
    "#  print (’Unable to open the file :’, e)\n",
    "\n",
    "# try :\n",
    "# You do your operations here ;\n",
    "# ...\n",
    "# except :\n",
    "# If there is any exception , then execute this block .\n",
    "# ...\n",
    "# else :\n",
    "# If there is no exception then execute this block .\n",
    "\n",
    "age = -1\n",
    "while age <= 0:\n",
    "  try :\n",
    "    age = int( input ('Enter your age in years :'))\n",
    "    if age <= 0:\n",
    "       print ('Your age must be positive ')\n",
    "  except ( ValueError , EOFError ):\n",
    "    print ('Invalid response ')\n",
    "\n",
    "# try :\n",
    "# You do your operations here ;\n",
    "# ...\n",
    "# Due to any exception , this may be skipped .\n",
    "# finally :\n",
    "# This would always be executed .\n",
    "# ..."
   ]
  },
  {
   "cell_type": "code",
   "execution_count": null,
   "id": "ff0ba419-5cb3-48b4-8686-09d15e1467ab",
   "metadata": {},
   "outputs": [],
   "source": []
  },
  {
   "cell_type": "code",
   "execution_count": 17,
   "id": "4959ed98-8e02-4bb1-8c8d-bae6055f9420",
   "metadata": {},
   "outputs": [],
   "source": [
    "# Iterators and Generators"
   ]
  },
  {
   "cell_type": "code",
   "execution_count": 18,
   "id": "6bc2bfd1-7e6f-4a27-b58a-9d5131702587",
   "metadata": {},
   "outputs": [
    {
     "name": "stdout",
     "output_type": "stream",
     "text": [
      "0\n",
      "1\n",
      "2\n",
      "3\n",
      "4\n",
      "1\n",
      "2\n",
      "3\n"
     ]
    }
   ],
   "source": [
    "# Iterators : \n",
    "# for element in iterable :\n",
    "# ...\n",
    "\n",
    "# • Basic container types, such as list, tuple, and set, qualify as iterable types.\n",
    "# • Furthermore, a string can produce an iteration of its characters, a dictionary can produce an iteration of its keys, \n",
    "# and a file can produce an iteration of its lines.\n",
    "\n",
    "# An iterator in Python is an object that allows you to traverse through a collection \n",
    "# (like a list, tuple, dictionary, or set) without exposing the underlying structure of the collection. \n",
    "# It provides a way to access the elements of a collection one at a time and is fundamental to Python's iteration protocols.\n",
    "\n",
    "# Key Concepts : Iterator Protocol:\n",
    "\n",
    "# An object is considered an iterator if it implements two methods:\n",
    "# __iter__(): Returns the iterator object itself. This is called when an iterator is required.\n",
    "# __next__(): Returns the next value from the iterator. If there are no more items to return, it raises the StopIteration exception.\n",
    "\n",
    "# Iterable vs. Iterator:\n",
    "# An iterable is any object that can return an iterator (e.g., lists, tuples, strings, dictionaries).\n",
    "# An iterator is the object that actually implements the iterator protocol and is used to iterate over the iterable.\n",
    "\n",
    "class MyIterator:\n",
    "    def __init__(self, limit):\n",
    "        self.limit = limit\n",
    "        self.current = 0\n",
    "\n",
    "    def __iter__(self):\n",
    "        return self\n",
    "\n",
    "    def __next__(self):\n",
    "        if self.current < self.limit:\n",
    "            result = self.current\n",
    "            self.current += 1\n",
    "            return result\n",
    "        else:\n",
    "            raise StopIteration\n",
    "\n",
    "# Using the custom iterator\n",
    "my_iter = MyIterator(5)\n",
    "for value in my_iter:\n",
    "    print(value)\n",
    "\n",
    "\n",
    "# Built-in Iterators : Python has several built-in iterators, such as:\n",
    "# Lists: You can iterate over lists using a for loop.\n",
    "# Dictionaries: Iterating over a dictionary iterates over its keys by default.\n",
    "# Sets: You can iterate over sets just like lists.\n",
    "# Using the iter() and next() Functions\n",
    "# You can also manually use the iter() and next() functions:\n",
    "\n",
    "my_list = [1, 2, 3]\n",
    "iterator = iter(my_list)\n",
    "\n",
    "print(next(iterator))  # Output: 1\n",
    "print(next(iterator))  # Output: 2\n",
    "print(next(iterator))  # Output: 3\n",
    "# print(next(iterator))  # This would raise StopIteration\n",
    "\n",
    "# Summary\n",
    "# Iterator: An object that implements the iterator protocol (__iter__() and __next__()).\n",
    "# Iterable: An object that can return an iterator (like lists and dictionaries).\n",
    "# Iterators allow for efficient and lazy iteration over data structures, making them a powerful feature in Python."
   ]
  },
  {
   "cell_type": "code",
   "execution_count": 19,
   "id": "5986d1da-d289-4f34-ac38-043a4f4d7ac6",
   "metadata": {},
   "outputs": [
    {
     "name": "stdout",
     "output_type": "stream",
     "text": [
      "[1, 2, 4, 5, 10, 20, 25, 50, 100]\n"
     ]
    },
    {
     "data": {
      "text/plain": [
       "<generator object fibonacci at 0x000001ECF2998D40>"
      ]
     },
     "execution_count": 19,
     "metadata": {},
     "output_type": "execute_result"
    }
   ],
   "source": [
    "# Generators : \n",
    "\n",
    "# The most convenient technique for creating iterators in Python is through the use of generators.\n",
    "# A generator is implemented with a syntax that is very similar to a function, but instead of returning values, \n",
    "# a yield statement is executed to indicate each element of the series.\n",
    "\n",
    "def factors1 (n):\n",
    "    results = []\n",
    "    for k in range (1, n+1) :\n",
    "        if n % k == 0 :\n",
    "           results.append (k)\n",
    "    return results\n",
    "\n",
    "print(factors1(100))\n",
    "\n",
    "# In contrast, an implementation of a generator for computing those factors could be implemented as follows:\n",
    "def factors2 (n):\n",
    "    for k in range (1, n+1):\n",
    "        if n % k == 0 :\n",
    "           yield k\n",
    "\n",
    "factors2(100)\n",
    "\n",
    "def factors3 (n):\n",
    "    k = 1\n",
    "    while k * k < n:\n",
    "       if n % k == 0:\n",
    "          yield k\n",
    "          yield n // k\n",
    "    if k*k == n:\n",
    "       yield k\n",
    "\n",
    "factors3(200)\n",
    "\n",
    "\n",
    "def fibonacci ():\n",
    "   a = 0\n",
    "   b = 1\n",
    "   while True :\n",
    "      yield a\n",
    "      future = a + b\n",
    "      a = b\n",
    "      b = future\n",
    "\n",
    "fibonacci()"
   ]
  },
  {
   "cell_type": "code",
   "execution_count": 20,
   "id": "70266f3a-6cbd-401a-8c80-052290617a31",
   "metadata": {},
   "outputs": [
    {
     "name": "stdout",
     "output_type": "stream",
     "text": [
      "1\n",
      "2\n",
      "3\n",
      "4\n",
      "5\n"
     ]
    }
   ],
   "source": [
    "# Generators :\n",
    "\n",
    "# Generators in Python are a special type of iterable, like lists or tuples, \n",
    "# but instead of storing all values in memory, they generate values on the fly. \n",
    "# This is particularly useful for working with large datasets or streams of data because \n",
    "# they allow you to iterate through values without needing to load everything into memory at once.\n",
    "\n",
    "# A generator is defined using a function that contains one or more yield statements. \n",
    "# When the function is called, it returns a generator object, but the code within the function does not execute until you iterate over it.\n",
    "\n",
    "# Yield Statement:\n",
    "# The yield statement is what makes a function a generator. When the function encounters a yield, it produces a value and pauses its execution, \n",
    "# maintaining its state (local variables and execution point). \n",
    "# The next time the generator is called, it resumes execution right after the yield.\n",
    "\n",
    "# Memory Efficiency:\n",
    "# Since generators yield items one at a time and only when required, they are more memory-efficient compared to lists, especially for large datasets.\n",
    "\n",
    "def count_up_to(limit):\n",
    "    count = 1\n",
    "    while count <= limit:\n",
    "        yield count\n",
    "        count += 1\n",
    "\n",
    "# Using the generator\n",
    "counter = count_up_to(5)\n",
    "\n",
    "for number in counter:\n",
    "    print(number)"
   ]
  },
  {
   "cell_type": "code",
   "execution_count": 21,
   "id": "65371c34-73ea-4314-bb2d-1580a7c2d7e2",
   "metadata": {},
   "outputs": [
    {
     "name": "stdout",
     "output_type": "stream",
     "text": [
      "4\n",
      "40\n"
     ]
    }
   ],
   "source": [
    "# Additional Python Conveniences\n",
    "\n",
    "# Conditional Expressions : expr1 if condition else expr2\n",
    "# It is equivalent to the syntax condition ? expr1 : expr2 in C/C++.\n",
    "\n",
    "def abs (n):\n",
    "    if n >= 0:\n",
    "       return n\n",
    "    else :\n",
    "      return -n\n",
    "\n",
    "result2 = abs(-4)\n",
    "print(result2)\n",
    "\n",
    "# A conditional expression syntax :\n",
    "\n",
    "def abs (n):\n",
    "    return n if n >= 0 else -n\n",
    "\n",
    "result1 = abs (-40)\n",
    "print(result1)"
   ]
  },
  {
   "cell_type": "code",
   "execution_count": 22,
   "id": "3f3d46cd-1b37-4152-96d0-77418938b640",
   "metadata": {},
   "outputs": [
    {
     "name": "stdout",
     "output_type": "stream",
     "text": [
      "[1, 4, 9, 16, 25, 36, 49, 64, 81, 100]\n",
      "[1, 4, 9, 16, 25, 36, 49, 64, 81, 100]\n",
      "[1, 2, 5, 10]\n"
     ]
    }
   ],
   "source": [
    "# Additional Python Conveniences\n",
    "\n",
    "# Comprehension Syntax\n",
    "\n",
    "# General form of list comprehension : [ expression for value in iterable if condition ]\n",
    "\n",
    "# A traditional control structure :\n",
    "\n",
    "# result = []\n",
    "# for value in iterable :\n",
    "#    if condition :\n",
    "#       result.append(expression)\n",
    "\n",
    "\n",
    "# Generate a list of squares of the numbers from 1 to n)\n",
    "\n",
    "n = 10\n",
    "\n",
    "# A traditional control structure :\n",
    "squares1 = []\n",
    "for k in range (1, n+1) :\n",
    "    squares1.append (k*k)\n",
    "print(squares1)\n",
    "\n",
    "# List comprehension\n",
    "squares2 = [k*k for k in range (1, n +1)]\n",
    "print(squares2)\n",
    "\n",
    "factors = [k for k in range (1, n+1) if n % k == 0]\n",
    "print(factors)\n",
    "\n",
    "# Python supports similar comprehension syntaxes that respectively produce a set, generator, or dictionary. \n",
    "# We compare those syntaxes using our example for producing the squares of numbers.\n",
    "\n",
    "# list comprehension\n",
    "# [k*k for k in range (1, n+1)]\n",
    "\n",
    "# set comprehension\n",
    "# {k*k for k in range (1, n+1)}\n",
    "\n",
    "# generator comprehension\n",
    "# (k*k for k in range (1, n+1))\n",
    "\n",
    "# dictionary comprehension\n",
    "# {k: k*k for k in range (1, n+1)}"
   ]
  },
  {
   "cell_type": "code",
   "execution_count": null,
   "id": "be05dd3e-4d61-4a55-b8e6-b3130d65ce3c",
   "metadata": {},
   "outputs": [],
   "source": []
  },
  {
   "cell_type": "code",
   "execution_count": 23,
   "id": "87c5d244-b304-476a-bb8b-f788d685150c",
   "metadata": {},
   "outputs": [
    {
     "name": "stdout",
     "output_type": "stream",
     "text": [
      "(2, 4, 6, 8)\n",
      "7\n",
      "8\n",
      "9\n",
      "10\n",
      "quotient\n",
      "33\n",
      "remainder\n",
      "1\n"
     ]
    }
   ],
   "source": [
    "# Additional Python Conveniences involving the treatment of tuples and other sequence types.\n",
    "\n",
    "# Automatic PACKING of a tuple\n",
    "data = 2, 4, 6, 8\n",
    "print(data) \n",
    "# results in identifier, data, being assigned to the tuple (2, 4, 6, 8).\n",
    "\n",
    "# If the body of a function executes the command,\n",
    "# return x, y\n",
    "# it will be formally returning a single object that is the tuple (x, y).\n",
    "\n",
    "\n",
    "# Automatically UNPACKING a sequence\n",
    "# The assignment\n",
    "a, b, c, d = range (7, 11)\n",
    "# has the effect of assigning a = 7, b = 8, c = 9, d = 10.\n",
    "\n",
    "print(a)\n",
    "print(b)\n",
    "print(c)\n",
    "print(d)\n",
    "\n",
    "# The built-in function, divmod(a, b), returns the pair of values (a // b, a % b). \n",
    "# quotient , remainder = divmod (a, b) \n",
    "# to separately identify the two entries of the returned tuple.\n",
    "\n",
    "quotient , remainder = divmod (100, 3)\n",
    "\n",
    "print(\"quotient\")\n",
    "print(quotient)\n",
    "print(\"remainder\")\n",
    "print(remainder)"
   ]
  },
  {
   "cell_type": "code",
   "execution_count": null,
   "id": "c8ed79d9-e0ca-4518-b334-95d850593f76",
   "metadata": {},
   "outputs": [],
   "source": []
  },
  {
   "cell_type": "code",
   "execution_count": 24,
   "id": "4ef13635-17f6-41c4-ac8a-ebd5663649a2",
   "metadata": {},
   "outputs": [],
   "source": [
    "# Additional Python Conveniences\n",
    "\n",
    "# Simultaneous Assignments\n",
    "\n",
    "# The combination of automatic packing and unpacking forms a technique known as simultaneous assignment.\n",
    "# • Explicitly assign a series of values to a series of identifiers:\n",
    "# x, y, z = 6, 2, 5\n",
    "# • A convenient way for swapping the values associated with two variables:\n",
    "# j, k = k, j\n",
    "\n",
    "# The use of simultaneous assignments can greatly simplify the presentation of code.\n",
    "\n",
    "# Example (The generator producing Fibonacci series)\n",
    "# With simultaneous assignements, the generator can be implemented more directly as follows:\n",
    "def fibonacci ():\n",
    "    a, b = 0, 1\n",
    "    while True :\n",
    "       yield a\n",
    "       a, b = b, a+b"
   ]
  },
  {
   "cell_type": "code",
   "execution_count": null,
   "id": "dc05fc54-3f30-45e8-987b-a2e878ebe295",
   "metadata": {},
   "outputs": [],
   "source": []
  },
  {
   "cell_type": "code",
   "execution_count": 25,
   "id": "1e97b098-e124-4998-af04-7ecc67e72263",
   "metadata": {},
   "outputs": [],
   "source": [
    "# Scopes and Namespaces\n",
    "\n",
    "# Whenever an identifier is assigned to a value, that definition is made with a specific scope.\n",
    "# • Top-level assignments are typically made in what is known as global scope.\n",
    "# • Assignments made within the body of a function typically have scope that is local to that function call.\n",
    "\n",
    "# Each distinct scope in Python is represented using an abstraction known as a NAMESPACE. \n",
    "# A namespace manages all identifiers that are currently defined in given SCOPE.\n",
    "\n",
    "# Python provides several ways to examine a given namespace.\n",
    "# • dir()\n",
    "# • vars()"
   ]
  },
  {
   "cell_type": "code",
   "execution_count": 26,
   "id": "ad8f49fd-dc92-4582-8c60-0cc558a77f02",
   "metadata": {},
   "outputs": [
    {
     "name": "stdout",
     "output_type": "stream",
     "text": [
      "Hello!\n",
      "Hello!\n",
      "Inner function!\n"
     ]
    }
   ],
   "source": [
    "# What are First-Class Objects?\n",
    "\n",
    "# A first-class object (or first-class citizen) is an entity that supports all the operations that the language provides for its values. \n",
    "# This typically includes:\n",
    "# Being assigned to a variable (identifier): You can store the object in a variable.\n",
    "# Being passed as an argument: You can send the object to a function as a parameter.\n",
    "# Being returned from a function: You can have a function return the object as its result.\n",
    "\n",
    "# Examples of First-Class Objects in Python :\n",
    "\n",
    "# 1 . Functions: In languages like Python, functions are first-class objects. You can:\n",
    "\n",
    "# a. Assign a function to a variable:\n",
    "\n",
    "def greet():\n",
    "    return \"Hello!\"\n",
    "say_hello = greet  # Assigning the function to a variable\n",
    "print(say_hello())  # Output: Hello!\n",
    "\n",
    "# b. Pass a function as an argument:\n",
    "\n",
    "def execute(func):\n",
    "    return func()\n",
    "print(execute(say_hello))  # Output: Hello!\n",
    "\n",
    "# c. Return a function from another function:\n",
    "\n",
    "def outer():\n",
    "    def inner():\n",
    "        return \"Inner function!\"\n",
    "    return inner  # Returning the inner function\n",
    "\n",
    "new_function = outer()\n",
    "print(new_function())  # Output: Inner function!\n",
    "\n",
    "# 2. Objects: In object-oriented programming, instances of classes are also first-class objects:\n",
    "\n",
    "# You can create an instance of a class and store it in a variable.\n",
    "# You can pass it to functions and return it from functions."
   ]
  },
  {
   "cell_type": "code",
   "execution_count": 27,
   "id": "05e291c5-7a14-42f8-8435-76dfbd9771c0",
   "metadata": {},
   "outputs": [],
   "source": [
    "# First-Class Objects: \n",
    "# These are values or entities in programming that can be treated uniformly — \n",
    "# assigned to variables, \n",
    "# passed as parameters, \n",
    "# and returned from functions.\n",
    "\n",
    "\n",
    "# Second-Class Objects: \n",
    "# These are entities that have limitations in how they can be used compared to first-class objects. \n",
    "# Restrictions: Common restrictions include:\n",
    "# Cannot be assigned to variables.\n",
    "# Cannot be passed as arguments to functions.\n",
    "# Cannot be returned from functions."
   ]
  },
  {
   "cell_type": "code",
   "execution_count": null,
   "id": "01d53429-f14f-4443-ac3b-6d743f290c36",
   "metadata": {},
   "outputs": [],
   "source": []
  },
  {
   "cell_type": "code",
   "execution_count": 28,
   "id": "952e590e-e62c-4498-a8a4-7be446b91f1b",
   "metadata": {},
   "outputs": [
    {
     "name": "stdout",
     "output_type": "stream",
     "text": [
      "1.5707963267948966\n",
      "1.4142135623730951\n"
     ]
    }
   ],
   "source": [
    "# MODULES\n",
    "\n",
    "import builtins\n",
    "dir ( builtins )\n",
    "\n",
    "import math\n",
    "dir ( math )\n",
    "\n",
    "# Python's import statement loads definitions from a module into the current namespace.\n",
    "\n",
    "from math import pi , sqrt\n",
    "angle = pi /2\n",
    "v = sqrt (2)\n",
    "print(angle)\n",
    "print(v)\n",
    "\n",
    "# If there are many definitions from the same module to be imported, an asterisk may be used as a wild card\n",
    "from math import *\n",
    "\n",
    "# To create a new module, one simply has to put the relevant definitions in a file named with a .py suffix. \n",
    "# Those definitions can be imported from any other .py file within the same project directory.\n",
    "\n",
    "# in the file : utils.py\n",
    "# def count (data , target ):\n",
    "#    n = 0\n",
    "#    for item in data :\n",
    "#         if item == target :\n",
    "#             n += 1\n",
    "#    return n\n",
    "\n",
    "# from utils import count\n",
    "# count ([1 ,2 ,2 ,2 ,3] , 2)"
   ]
  },
  {
   "cell_type": "code",
   "execution_count": 29,
   "id": "5d8f9b4d-9b00-44b7-a167-b88ce08ab84d",
   "metadata": {},
   "outputs": [],
   "source": [
    "# Existing Modules\n",
    "\n",
    "# array Compact array storage for primitive types.\n",
    "# collections Additional data structures and abstract base classes involving collections of objects.\n",
    "# copy General functions for making copies of objects.\n",
    "# heapq Heap-based priority queue functions.\n",
    "# math Common mathematical constants and functions.\n",
    "# os Support for interactions with the operating system.\n",
    "# random Random number generation.\n",
    "# re Support for processing regular expressions.\n",
    "# sys Additional level of interaction with the Python interpreter.\n",
    "# time Support for measuring time, or delaying a program."
   ]
  },
  {
   "cell_type": "code",
   "execution_count": null,
   "id": "93f48573-8427-442f-9634-ed289cd3d9b6",
   "metadata": {},
   "outputs": [],
   "source": []
  }
 ],
 "metadata": {
  "kernelspec": {
   "display_name": "Python 3 (ipykernel)",
   "language": "python",
   "name": "python3"
  },
  "language_info": {
   "codemirror_mode": {
    "name": "ipython",
    "version": 3
   },
   "file_extension": ".py",
   "mimetype": "text/x-python",
   "name": "python",
   "nbconvert_exporter": "python",
   "pygments_lexer": "ipython3",
   "version": "3.12.4"
  }
 },
 "nbformat": 4,
 "nbformat_minor": 5
}
