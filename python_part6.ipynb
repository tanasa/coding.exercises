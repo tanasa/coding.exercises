{
 "cells": [
  {
   "cell_type": "code",
   "execution_count": 27,
   "metadata": {},
   "outputs": [],
   "source": [
    "import os\n",
    "import sys"
   ]
  },
  {
   "cell_type": "code",
   "execution_count": 28,
   "metadata": {},
   "outputs": [],
   "source": [
    "# FILE HANDLING"
   ]
  },
  {
   "cell_type": "code",
   "execution_count": 29,
   "metadata": {},
   "outputs": [
    {
     "name": "stdout",
     "output_type": "stream",
     "text": [
      "Current Directory: /home/bogdan/Desktop/Python_data_structures_algorithms\n"
     ]
    }
   ],
   "source": [
    "# Get the current working directory\n",
    "\n",
    "current_directory = os.getcwd()\n",
    "print(\"Current Directory:\", current_directory)"
   ]
  },
  {
   "cell_type": "code",
   "execution_count": 30,
   "metadata": {},
   "outputs": [],
   "source": [
    "# List all files in the specified directory\n",
    "files = os.listdir(current_directory)\n",
    "\n",
    "# Filter out only files (excluding directories)\n",
    "files = [f for f in files if os.path.isfile(os.path.join(current_directory, f))]\n",
    "\n",
    "# print(\"Files in the folder:\", files)\n",
    "# print(\"Files in the directory:\\n\" + '\\n'.join(files))\n",
    "\n",
    "# '\\n'.join(files): This joins the list of file names into a single string, \n",
    "# with each file name separated by a newline character, effectively printing each name on a new line.\n",
    "\n",
    "# The .join() method in Python is a string method used to concatenate the elements of an iterable \n",
    "# (such as a list or tuple) into a single string, with a specified string as a separator between each element."
   ]
  },
  {
   "cell_type": "code",
   "execution_count": 31,
   "metadata": {},
   "outputs": [],
   "source": [
    "# We will work with the file : zexample.txt\n",
    "# The content of the file is :\n",
    "\n",
    "# The file provides an example of how to use Python. \n",
    "# The more I learn, the more enjoyable it becomes. \n",
    "# I hope Sofia learns it soon."
   ]
  },
  {
   "cell_type": "code",
   "execution_count": 32,
   "metadata": {},
   "outputs": [],
   "source": [
    "# The key function for working with files in Python is the open() function.\n",
    "# The open() function takes two parameters; filename, and mode.\n",
    "\n",
    "# There are four different methods (modes) for opening a file:\n",
    "\n",
    "# R\n",
    "# A\n",
    "# W\n",
    "# X\n",
    "\n",
    "# \"r\" - Read - Default value. Opens a file for reading, error if the file does not exist\n",
    "# \"a\" - Append - Opens a file for appending, creates the file if it does not exist\n",
    "# \"w\" - Write - Opens a file for writing, creates the file if it does not exist\n",
    "# \"x\" - Create - Creates the specified file, returns an error if the file exists\n",
    "\n",
    "# In addition you can specify if the file should be handled as binary or text mode\n",
    "# \"t\" - Text - Default value. Text mode\n",
    "# \"b\" - Binary - Binary mode (e.g. images)"
   ]
  },
  {
   "cell_type": "code",
   "execution_count": 33,
   "metadata": {},
   "outputs": [],
   "source": [
    "# READING from FILES : Python provides various methods\n",
    "\n",
    "# Read the entire file       : f.read()\n",
    "# Read the file line by line : f.readline()\n",
    "# Read all lines into a list : f.readlines()"
   ]
  },
  {
   "cell_type": "code",
   "execution_count": 34,
   "metadata": {},
   "outputs": [
    {
     "data": {
      "text/plain": [
       "<_io.TextIOWrapper name='zexample.txt' mode='rt' encoding='UTF-8'>"
      ]
     },
     "execution_count": 34,
     "metadata": {},
     "output_type": "execute_result"
    }
   ],
   "source": [
    "f = open(\"zexample.txt\", \"rt\")\n",
    "f"
   ]
  },
  {
   "cell_type": "code",
   "execution_count": 35,
   "metadata": {},
   "outputs": [
    {
     "name": "stdout",
     "output_type": "stream",
     "text": [
      "The file provides an example of how to use Python. \n",
      "The more I learn, the more enjoyable it becomes. \n",
      "I hope Sofia learns it soon.\n",
      "\n"
     ]
    }
   ],
   "source": [
    "# The open() function returns a file object, which has a read() method for reading the content of the file:\n",
    "\n",
    "print(f.read())\n",
    "\n",
    "# To close the file :\n",
    "\n",
    "f.close()"
   ]
  },
  {
   "cell_type": "code",
   "execution_count": 36,
   "metadata": {},
   "outputs": [
    {
     "name": "stdout",
     "output_type": "stream",
     "text": [
      "The file provides an example of how to use Python. \n",
      "\n",
      "The file provides an example of how to use Python. \n",
      "\n",
      "The more I learn, the more enjoyable it becomes. \n",
      "\n"
     ]
    }
   ],
   "source": [
    "# To read the lines : you can return one line by using the readline() method:\n",
    "\n",
    "# Read one line of the file:\n",
    "\n",
    "f = open(\"zexample.txt\", \"r\")\n",
    "print(f.readline())\n",
    "\n",
    "# Read two lines of the file:\n",
    "\n",
    "f = open(\"zexample.txt\", \"r\")\n",
    "print(f.readline())\n",
    "print(f.readline())"
   ]
  },
  {
   "cell_type": "code",
   "execution_count": 37,
   "metadata": {},
   "outputs": [
    {
     "name": "stdout",
     "output_type": "stream",
     "text": [
      "The file provides an example of how to use Python.\n",
      "The more I learn, the more enjoyable it becomes.\n",
      "I hope Sofia learns it soon.\n"
     ]
    }
   ],
   "source": [
    "# Read the file line by line\n",
    "\n",
    "f = open(\"zexample.txt\", \"r\")\n",
    "\n",
    "for line in f:\n",
    "    print(line.strip())\n",
    "f.close()"
   ]
  },
  {
   "cell_type": "code",
   "execution_count": 38,
   "metadata": {},
   "outputs": [
    {
     "name": "stdout",
     "output_type": "stream",
     "text": [
      "['The file provides an example of how to use Python. \\n', 'The more I learn, the more enjoyable it becomes. \\n', 'I hope Sofia learns it soon.\\n']\n"
     ]
    }
   ],
   "source": [
    "# Read all lines into a list\n",
    "\n",
    "f = open(\"zexample.txt\", \"r\")\n",
    "\n",
    "lines = f.readlines()\n",
    "print(lines)\n",
    "\n",
    "f.close()"
   ]
  },
  {
   "cell_type": "code",
   "execution_count": 39,
   "metadata": {},
   "outputs": [
    {
     "name": "stdout",
     "output_type": "stream",
     "text": [
      "Woops! I have deleted the content!Now the file has more content!\n"
     ]
    }
   ],
   "source": [
    "# Write to an Existing File :\n",
    "\n",
    "# To write to an existing file, you must add a parameter to the open() function:\n",
    "# \"a\" - Append - will append to the end of the file\n",
    "# \"w\" - Write - will overwrite any existing content\n",
    "\n",
    "f = open(\"zexample.copy.txt\", \"a\")\n",
    "f.write(\"Now the file has more content!\")\n",
    "f.close()\n",
    "\n",
    "# To examine the updated file :\n",
    "\n",
    "f = open(\"zexample.copy.txt\", \"rt\")\n",
    "print(f.read())"
   ]
  },
  {
   "cell_type": "code",
   "execution_count": 40,
   "metadata": {},
   "outputs": [
    {
     "name": "stdout",
     "output_type": "stream",
     "text": [
      "Woops! I have deleted the content!\n"
     ]
    }
   ],
   "source": [
    "# To open the file and override the content :\n",
    "\n",
    "f = open(\"zexample.copy.txt\", \"w\")\n",
    "f.write(\"Woops! I have deleted the content!\")\n",
    "f.close()\n",
    "\n",
    "# To open and read the file after the overwriting:\n",
    "f = open(\"zexample.copy.txt\", \"r\")\n",
    "print(f.read())"
   ]
  },
  {
   "cell_type": "code",
   "execution_count": 43,
   "metadata": {},
   "outputs": [],
   "source": [
    "# To create a New File\n",
    "\n",
    "# To create a new file in Python, use the open() method, with one of the following parameters:\n",
    "# \"x\" - Create - will create a file, returns an error if the file exist\n",
    "# \"a\" - Append - will create a file if the specified file does not exist\n",
    "# \"w\" - Write - will create a file if the specified file does not exist\n",
    "\n",
    "# fnew = open(\"zexample.new.txt\", \"x\")"
   ]
  },
  {
   "cell_type": "code",
   "execution_count": 44,
   "metadata": {},
   "outputs": [
    {
     "name": "stdout",
     "output_type": "stream",
     "text": [
      "The file has been removed.\n"
     ]
    }
   ],
   "source": [
    "# To remove a File\n",
    "# os.remove(\"zexample.new.txt\")\n",
    "\n",
    "# To avoid getting an error, \n",
    "# to check if the file exists before you try to delete it:\n",
    "\n",
    "import os  \n",
    "\n",
    "# Check if the file exists\n",
    "\n",
    "if os.path.exists(\"zexample.new.txt\"):\n",
    "    os.remove(\"zexample.new.txt\")      # Remove the file\n",
    "    print(\"The file has been removed.\")\n",
    "else:\n",
    "    print(\"The file does not exist.\")"
   ]
  },
  {
   "cell_type": "code",
   "execution_count": 45,
   "metadata": {},
   "outputs": [],
   "source": [
    "# WRITING to FILES\n",
    "\n",
    "# Write data to a file using write() and writelines() methods."
   ]
  },
  {
   "cell_type": "code",
   "execution_count": 46,
   "metadata": {},
   "outputs": [],
   "source": [
    "# Write a single line to a file\n",
    "\n",
    "file = open('zexample.new.txt', 'w')\n",
    "file.write('Bonjour, Sofia!\\n')\n",
    "file.close()\n",
    "\n",
    "# Write multiple lines to a file\n",
    "\n",
    "file = open('zexample.new.txt', 'w')\n",
    "lines = ['I am so happy.\\n', \n",
    "         'Great seeing you.\\n', \n",
    "         'I love you.\\n']\n",
    "file.writelines(lines)\n",
    "file.close()"
   ]
  },
  {
   "cell_type": "code",
   "execution_count": 47,
   "metadata": {},
   "outputs": [
    {
     "name": "stdout",
     "output_type": "stream",
     "text": [
      "I am so happy.\n",
      "Great seeing you.\n",
      "I love you.\n",
      "\n"
     ]
    }
   ],
   "source": [
    "fnew = open(\"zexample.new.txt\", \"r\")\n",
    "print(fnew.read())\n",
    "fnew.close()"
   ]
  },
  {
   "cell_type": "code",
   "execution_count": 48,
   "metadata": {},
   "outputs": [],
   "source": [
    "# To delete a Folder\n",
    "\n",
    "# import os\n",
    "# os.rmdir(\"my_favourite_folder\")\n",
    "\n",
    "# We can only remove empty folders."
   ]
  },
  {
   "cell_type": "code",
   "execution_count": 49,
   "metadata": {},
   "outputs": [
    {
     "name": "stdout",
     "output_type": "stream",
     "text": [
      "Line 2: Woops! I have deleted the content!\n"
     ]
    }
   ],
   "source": [
    "# To read specific lines (for example, lines 2 and 3) from a file in Python, \n",
    "# you can use a loop to iterate through the lines while keeping track of the current line number. \n",
    "\n",
    "# Open the file in read mode\n",
    "fnew = open(\"zexample.copy.txt\", \"r\")\n",
    "\n",
    "# Read all lines into a list\n",
    "lines = fnew.readlines()\n",
    "\n",
    "# Print lines 2 and 3 (index 1 and 2 in zero-based index)\n",
    "print(\"Line 2:\", lines[0].strip())  # Strip to remove any trailing newline or spaces"
   ]
  },
  {
   "cell_type": "code",
   "execution_count": 50,
   "metadata": {},
   "outputs": [
    {
     "name": "stdout",
     "output_type": "stream",
     "text": [
      "\n"
     ]
    }
   ],
   "source": [
    "print(fnew.read())"
   ]
  },
  {
   "cell_type": "code",
   "execution_count": null,
   "metadata": {},
   "outputs": [],
   "source": []
  }
 ],
 "metadata": {
  "kernelspec": {
   "display_name": "Python 3",
   "language": "python",
   "name": "python3"
  },
  "language_info": {
   "codemirror_mode": {
    "name": "ipython",
    "version": 3
   },
   "file_extension": ".py",
   "mimetype": "text/x-python",
   "name": "python",
   "nbconvert_exporter": "python",
   "pygments_lexer": "ipython3",
   "version": "3.8.10"
  }
 },
 "nbformat": 4,
 "nbformat_minor": 4
}
