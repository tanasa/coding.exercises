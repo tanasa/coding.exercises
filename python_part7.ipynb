{
 "cells": [
  {
   "cell_type": "code",
   "execution_count": 1,
   "metadata": {},
   "outputs": [],
   "source": [
    "# Python File I/O\n",
    "\n",
    "import os\n",
    "import sys"
   ]
  },
  {
   "cell_type": "code",
   "execution_count": 2,
   "metadata": {},
   "outputs": [
    {
     "name": "stdout",
     "output_type": "stream",
     "text": [
      "Current Directory: /home/bogdan/Desktop/Python_data_structures_algorithms\n"
     ]
    }
   ],
   "source": [
    "# Get the current working directory\n",
    "\n",
    "current_directory = os.getcwd()\n",
    "print(\"Current Directory:\", current_directory)\n",
    "\n",
    "# List all files in the specified directory\n",
    "files = os.listdir(current_directory)\n",
    "\n",
    "# Filter out only files (excluding directories)\n",
    "files = [f for f in files if os.path.isfile(os.path.join(current_directory, f))]\n",
    "\n",
    "# print(\"Files in the folder:\", files)\n",
    "# print(\"Files in the directory:\\n\" + '\\n'.join(files))"
   ]
  },
  {
   "cell_type": "code",
   "execution_count": 3,
   "metadata": {},
   "outputs": [],
   "source": [
    "#    Best Practices for File Handling\n",
    "\n",
    "#    Use Context Managers: Always use the with statement to open files, as it ensures proper resource management and file closure.\n",
    "\n",
    "#    Handle Exceptions: Use try-except blocks to handle potential errors during file operations.\n",
    "\n",
    "#    Work with Relative Paths: Use relative paths instead of absolute paths for better portability.\n",
    "\n",
    "#    Validate File Paths: Always check if a file exists before performing operations to avoid runtime errors.\n",
    "\n",
    "#    Use Appropriate File Modes: Choose the correct file mode to prevent data loss and ensure data integrity.\n",
    "\n",
    "#    Be Mindful of File Sizes: When working with large files, consider reading and writing data in chunks to optimize memory usage."
   ]
  },
  {
   "cell_type": "code",
   "execution_count": null,
   "metadata": {},
   "outputs": [],
   "source": []
  },
  {
   "cell_type": "code",
   "execution_count": 4,
   "metadata": {},
   "outputs": [],
   "source": [
    "#     Python supports several file modes, each serving a different purpose:\n",
    "\n",
    "#    'r': Read mode (default). Opens a file for reading.\n",
    "#    'w': Write mode. Opens a file for writing (creates a new file or truncates an existing file).\n",
    "#    'a': Append mode. Opens a file for writing (creates a new file if it doesn't exist and appends data to an existing file).\n",
    "#    'b': Binary mode. Used in conjunction with other modes to handle binary files.\n",
    "#    't': Text mode (default). Used in conjunction with other modes to handle text files.\n",
    "#    'x': Exclusive creation mode. Creates a new file and fails if the file already exists."
   ]
  },
  {
   "cell_type": "code",
   "execution_count": 5,
   "metadata": {},
   "outputs": [],
   "source": [
    "# When you open a file, it’s crucial to close it after you’re done to free up system resources. \n",
    "# You can do this using the close() method:\n",
    "\n",
    "file = open('zexample.copy.txt', 'r')\n",
    "file.close()\n",
    "\n",
    "# Alternatively, you can use a with statement to open a file, which ensures the file is properly closed \n",
    "# after the block of code is executed:\n",
    "\n",
    "with open('zexample.copy.txt', 'r') as file:\n",
    "  \n",
    "    # Perform file operations\n",
    "    pass\n",
    "\n",
    "# File is automatically closed here"
   ]
  },
  {
   "cell_type": "code",
   "execution_count": 6,
   "metadata": {},
   "outputs": [],
   "source": [
    "# READING from a FILE"
   ]
  },
  {
   "cell_type": "code",
   "execution_count": 7,
   "metadata": {},
   "outputs": [],
   "source": [
    "# Reading from a File\n",
    "\n",
    "# Python provides several methods to read data from a file:\n",
    "\n",
    "#    read(size): Reads the specified number of bytes from the file. \n",
    "#                If size is not specified, reads the entire file.\n",
    "#    readline(): Reads a single line from the file.\n",
    "#    readlines(): Reads all lines from the file and returns them as a list."
   ]
  },
  {
   "cell_type": "code",
   "execution_count": 8,
   "metadata": {},
   "outputs": [
    {
     "name": "stdout",
     "output_type": "stream",
     "text": [
      "The file provides an example of how to use Python. \n",
      "The more I learn, the more enjoyable it becomes. \n",
      "I hope Sofia learns it soon.\n",
      "\n"
     ]
    }
   ],
   "source": [
    "# Read the entire file\n",
    "\n",
    "with open('zexample.txt', 'r') as file:\n",
    "    content = file.read()\n",
    "    print(content)"
   ]
  },
  {
   "cell_type": "code",
   "execution_count": 9,
   "metadata": {},
   "outputs": [
    {
     "name": "stdout",
     "output_type": "stream",
     "text": [
      "The file provides an example of how to use Python. \n",
      "The more I learn, the more enjoyable it becomes. \n",
      "I hope Sofia learns it soon.\n"
     ]
    }
   ],
   "source": [
    "# Read the file line by line\n",
    "\n",
    "with open('zexample.txt', 'r') as file:\n",
    "    line = file.readline()\n",
    "    while line:\n",
    "        print(line, end = '')\n",
    "        line = file.readline()\n"
   ]
  },
  {
   "cell_type": "code",
   "execution_count": 10,
   "metadata": {},
   "outputs": [
    {
     "name": "stdout",
     "output_type": "stream",
     "text": [
      "The file provides an example of how to use Python. \n",
      "The more I learn, the more enjoyable it becomes. \n",
      "I hope Sofia learns it soon.\n"
     ]
    }
   ],
   "source": [
    "# Read all lines into a list\n",
    "\n",
    "with open('zexample.txt', 'r') as file:\n",
    "    lines = file.readlines()\n",
    "    for line in lines:\n",
    "        print(line, end='')"
   ]
  },
  {
   "cell_type": "code",
   "execution_count": 11,
   "metadata": {},
   "outputs": [],
   "source": [
    "# WRITING to a FILE"
   ]
  },
  {
   "cell_type": "code",
   "execution_count": 12,
   "metadata": {},
   "outputs": [],
   "source": [
    "# Python provides several methods to write data to a file:\n",
    "\n",
    "#    write(string): Writes the specified string to the file.\n",
    "#    writelines(list): Writes a list of strings to the file."
   ]
  },
  {
   "cell_type": "code",
   "execution_count": 13,
   "metadata": {},
   "outputs": [
    {
     "name": "stdout",
     "output_type": "stream",
     "text": [
      "Hi, Sofia!\n",
      "This is a new line.\n",
      "\n"
     ]
    }
   ],
   "source": [
    "# Write a single line to a file\n",
    "\n",
    "with open('zexample.copy.txt', 'w') as file:\n",
    "    file.write(\"Hi, Sofia!\\n\")\n",
    "    file.write(\"This is a new line.\\n\")\n",
    "    \n",
    "f1 = open(\"zexample.copy.txt\", \"rt\")\n",
    "f1\n",
    "print(f1.read())"
   ]
  },
  {
   "cell_type": "code",
   "execution_count": 14,
   "metadata": {},
   "outputs": [
    {
     "name": "stdout",
     "output_type": "stream",
     "text": [
      "Hi, Sofia!\n",
      "This is a new line.\n",
      "Appending this line.\n",
      "\n"
     ]
    }
   ],
   "source": [
    "with open('zexample.copy.txt', 'a') as file:\n",
    "    file.write(\"Appending this line.\\n\")\n",
    "\n",
    "f2 = open(\"zexample.copy.txt\", \"rt\")\n",
    "f2\n",
    "print(f2.read())"
   ]
  },
  {
   "cell_type": "code",
   "execution_count": 15,
   "metadata": {},
   "outputs": [
    {
     "name": "stdout",
     "output_type": "stream",
     "text": [
      "Ce mai faci ?\n",
      "Vom veni la tine.\n",
      "Te asteptam cu drag.\n",
      "\n"
     ]
    }
   ],
   "source": [
    "# Write multiple lines to a file\n",
    "\n",
    "lines = [\"Ce mai faci ?\\n\", \n",
    "         \"Vom veni la tine.\\n\", \n",
    "         \"Te asteptam cu drag.\\n\"]\n",
    "\n",
    "with open('zexample.copy.txt', 'w') as file:\n",
    "    file.writelines(lines)\n",
    "\n",
    "f3 = open(\"zexample.copy.txt\", \"rt\")\n",
    "f3\n",
    "print(f3.read())"
   ]
  },
  {
   "cell_type": "code",
   "execution_count": null,
   "metadata": {},
   "outputs": [],
   "source": []
  },
  {
   "cell_type": "code",
   "execution_count": 16,
   "metadata": {},
   "outputs": [],
   "source": [
    "# Handle Exceptions\n",
    "\n",
    "# Always handle exceptions to manage errors gracefully and maintain robust applications.\n",
    "\n",
    "# try:\n",
    "#    with open('zexample.txt', 'r') as file:\n",
    "#        content = file.read()\n",
    "#        print(content)\n",
    "# except FileNotFoundError:\n",
    "#    print(\"File not found.\")\n",
    "# except IOError:\n",
    "#    print(\"An I/O error occurred.\")"
   ]
  },
  {
   "cell_type": "code",
   "execution_count": 17,
   "metadata": {},
   "outputs": [],
   "source": [
    "# Handling CSV Files\n",
    "\n",
    "# import csv\n",
    "# reader = csv.reader(file)\n",
    "# writer = csv.writer(file)"
   ]
  },
  {
   "cell_type": "code",
   "execution_count": 18,
   "metadata": {},
   "outputs": [],
   "source": [
    "# Handling JSON Files\n",
    "\n",
    "# import json\n",
    "# reader = json.load(file)\n",
    "# writer = json.dump(file)"
   ]
  },
  {
   "cell_type": "code",
   "execution_count": 19,
   "metadata": {},
   "outputs": [],
   "source": [
    "# We can also specify the encoding : \n",
    "\n",
    "# with open('example_utf8.txt', 'w', encoding='utf-8')\n",
    "# with open('example_utf8.txt', 'r', encoding='utf-8')\n",
    "\n",
    "# UTF-8 (Unicode Transformation Format - 8-bit) is a character encoding standard used \n",
    "# to represent text in computers, communication equipment, and other devices that handle text. \n",
    "# It is capable of encoding all possible characters (called code points) in Unicode, which \n",
    "# encompasses characters from virtually all written languages, as well as symbols, emojis, \n",
    "# and control characters.\n",
    "\n",
    "# Variable-Length Encoding:\n",
    "#   1 to 4 Bytes: UTF-8 uses one to four bytes to represent each character.\n",
    "#   ASCII Characters (U+0000 to U+007F): Represented with a single byte, identical to their ASCII encoding.\n",
    "#   Extended Characters: Use two, three, or four bytes, allowing for the representation of a vast array of \n",
    "#   characters from different languages and symbol sets."
   ]
  }
 ],
 "metadata": {
  "kernelspec": {
   "display_name": "Python 3",
   "language": "python",
   "name": "python3"
  },
  "language_info": {
   "codemirror_mode": {
    "name": "ipython",
    "version": 3
   },
   "file_extension": ".py",
   "mimetype": "text/x-python",
   "name": "python",
   "nbconvert_exporter": "python",
   "pygments_lexer": "ipython3",
   "version": "3.8.10"
  }
 },
 "nbformat": 4,
 "nbformat_minor": 4
}
