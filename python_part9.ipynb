{
 "cells": [
  {
   "cell_type": "code",
   "execution_count": 38,
   "id": "47787361-4dd4-4817-88aa-2a1735ecc00a",
   "metadata": {},
   "outputs": [],
   "source": [
    " # Simple examples of OOP using @dataclass"
   ]
  },
  {
   "cell_type": "code",
   "execution_count": 39,
   "id": "f3952e3f-b933-4f11-b92b-5cfc257281f5",
   "metadata": {},
   "outputs": [
    {
     "name": "stdout",
     "output_type": "stream",
     "text": [
      "7 X 3 = 21\n"
     ]
    }
   ],
   "source": [
    "from dataclasses import dataclass\n",
    "\n",
    "@dataclass\n",
    "class Multiplier:\n",
    "    num1:int = 0\n",
    "    num2:int = 0\n",
    "\n",
    "    def getProduct(self):\n",
    "        return self.num1 * self.num2\n",
    "\n",
    "def main():\n",
    "    m = Multiplier()\n",
    "    m.num1 = 7\n",
    "    m.num2 = 3\n",
    "    print(f\"{m.num1} X {m.num2} = {m.getProduct()}\")\n",
    "\n",
    "if __name__ == \"__main__\":\n",
    "    main()"
   ]
  },
  {
   "cell_type": "code",
   "execution_count": null,
   "id": "d3a0733b-8092-429c-851c-7662ac9e3429",
   "metadata": {},
   "outputs": [],
   "source": []
  },
  {
   "cell_type": "code",
   "execution_count": 40,
   "id": "e767fe2d-aee2-4c14-9a14-66ad4d6312f0",
   "metadata": {},
   "outputs": [],
   "source": [
    "# OBJECT COMPOSITION and ENCAPSULATION : "
   ]
  },
  {
   "cell_type": "code",
   "execution_count": 41,
   "id": "1b6fcd6f-a361-4d4c-8bd7-25ca4c0990c4",
   "metadata": {},
   "outputs": [
    {
     "name": "stdout",
     "output_type": "stream",
     "text": [
      "The Dice Roller program\n",
      "\n"
     ]
    },
    {
     "name": "stdin",
     "output_type": "stream",
     "text": [
      "Enter the number of dice to roll:  5\n"
     ]
    },
    {
     "name": "stdout",
     "output_type": "stream",
     "text": [
      "Setting initial values for each die:\n",
      "Die 1 initial value set to: 1\n",
      "Die 2 initial value set to: 1\n",
      "Die 3 initial value set to: 1\n",
      "Die 4 initial value set to: 1\n",
      "Die 5 initial value set to: 1\n",
      "YOUR ROLL: 6 1 6 4 2 \n",
      "\n"
     ]
    },
    {
     "name": "stdin",
     "output_type": "stream",
     "text": [
      "Roll again? (y/n):  n\n"
     ]
    },
    {
     "name": "stdout",
     "output_type": "stream",
     "text": [
      "Bye!\n"
     ]
    }
   ],
   "source": [
    "from dataclasses import dataclass, field\n",
    "import random\n",
    "\n",
    "@dataclass\n",
    "class Die:\n",
    "    _value: int = field(default=1, init=False)  # Start with default value of 1\n",
    "\n",
    "    def getValue(self):\n",
    "        return self._value  # Access the protected attribute _value\n",
    "\n",
    "    def setValue(self, value):\n",
    "       if value < 1 or value > 6:\n",
    "           raise ValueError(\"Die value must be from 1 to 6.\")\n",
    "       else:\n",
    "           self.__value = value\n",
    "        #  self._value = value  # Allow controlled setting of _value\n",
    "               \n",
    "    def roll(self):\n",
    "        self._value = random.randrange(1, 7)  # Update _value with a random roll\n",
    "\n",
    "class Dice:\n",
    "    def __init__(self):\n",
    "        self.dice_list = []  # More descriptive name for list of dice\n",
    "  \n",
    "    def addDie(self, die):\n",
    "        self.dice_list.append(die)\n",
    "\n",
    "    def rollAll(self):\n",
    "        for die in self.dice_list:\n",
    "            die.roll()\n",
    "\n",
    "def main():\n",
    "    print(\"The Dice Roller program\")\n",
    "    print()\n",
    "   \n",
    "    # Get number of dice from user\n",
    "    count = int(input(\"Enter the number of dice to roll: \"))\n",
    "   \n",
    "    # Create Dice object and add Die objects to it\n",
    "    dice = Dice()\n",
    "    for i in range(count):\n",
    "        die = Die()\n",
    "        dice.addDie(die)\n",
    "\n",
    "    # Optionally set initial values using setValue\n",
    "    print(\"Setting initial values for each die:\")\n",
    "    for index, die in enumerate(dice.dice_list, start=1):\n",
    "        initial_value = index % 6 + 1  # Set initial values in a range from 1 to 6\n",
    "        die.setValue(initial_value)\n",
    "        print(f\"Die {index} initial value set to: {die.getValue()}\")\n",
    "\n",
    "    choice = \"y\"\n",
    "    while choice.lower() == \"y\":\n",
    "        # Roll the dice\n",
    "        dice.rollAll()\n",
    " \n",
    "        # Display to the user\n",
    "        print(\"YOUR ROLL: \", end=\"\")\n",
    "       \n",
    "        for die in dice.dice_list:\n",
    "            print(die.getValue(), end=\" \")  # Access the die value\n",
    "        print(\"\\n\")\n",
    " \n",
    "        choice = input(\"Roll again? (y/n): \")\n",
    "\n",
    "    print(\"Bye!\")\n",
    "\n",
    "if __name__ == \"__main__\":\n",
    "    main()"
   ]
  },
  {
   "cell_type": "code",
   "execution_count": 42,
   "id": "54aec639-c0a6-4a78-b051-66e818db62f7",
   "metadata": {},
   "outputs": [],
   "source": [
    "# We can re-write the code above by using two decorators :\n",
    "# @ property \n",
    "# @ <property_name>.setter\n",
    "# @ <property_name>.getter"
   ]
  },
  {
   "cell_type": "code",
   "execution_count": 43,
   "id": "92f38b49-29be-4c76-9874-c4ff52713eb9",
   "metadata": {},
   "outputs": [
    {
     "name": "stdout",
     "output_type": "stream",
     "text": [
      "The Dice Roller program\n",
      "\n"
     ]
    },
    {
     "name": "stdin",
     "output_type": "stream",
     "text": [
      "Enter the number of dice to roll:  5\n"
     ]
    },
    {
     "name": "stdout",
     "output_type": "stream",
     "text": [
      "Setting initial values for each die:\n",
      "Die 1 initial value set to: 2\n",
      "Die 2 initial value set to: 3\n",
      "Die 3 initial value set to: 4\n",
      "Die 4 initial value set to: 5\n",
      "Die 5 initial value set to: 6\n",
      "YOUR ROLL: 3 6 4 4 5 \n",
      "\n"
     ]
    },
    {
     "name": "stdin",
     "output_type": "stream",
     "text": [
      "Roll again? (y/n):  n\n"
     ]
    },
    {
     "name": "stdout",
     "output_type": "stream",
     "text": [
      "Bye!\n"
     ]
    }
   ],
   "source": [
    "from dataclasses import dataclass, field\n",
    "import random\n",
    "\n",
    "@dataclass\n",
    "class Die:\n",
    "    _value: int = field(default=1, init=False)  # Initialize with default value of 1\n",
    "\n",
    "    @property\n",
    "    def value(self):\n",
    "        \"\"\"Getter for the die's value.\"\"\"\n",
    "        return self._value\n",
    "\n",
    "    @value.setter\n",
    "    def value(self, value):\n",
    "        \"\"\"Setter for the die's value, allowing controlled access.\"\"\"\n",
    "        self._value = value\n",
    "\n",
    "    def roll(self):\n",
    "        \"\"\"Simulate rolling the die and update _value with a random number between 1 and 6.\"\"\"\n",
    "        self._value = random.randrange(1, 7)\n",
    "\n",
    "class Dice:\n",
    "    def __init__(self):\n",
    "        self.dice_list = []  # Holds the list of Die objects\n",
    "  \n",
    "    def addDie(self, die):\n",
    "        self.dice_list.append(die)\n",
    "\n",
    "    def rollAll(self):\n",
    "        for die in self.dice_list:\n",
    "            die.roll()\n",
    "\n",
    "def main():\n",
    "    print(\"The Dice Roller program\")\n",
    "    print()\n",
    "   \n",
    "    # Get number of dice from user\n",
    "    count = int(input(\"Enter the number of dice to roll: \"))\n",
    "   \n",
    "    # Create Dice object and add Die objects to it\n",
    "    dice = Dice()\n",
    "    for i in range(count):\n",
    "        die = Die()\n",
    "        dice.addDie(die)\n",
    "\n",
    "    # Optionally set initial values using the property setter\n",
    "    print(\"Setting initial values for each die:\")\n",
    "    for index, die in enumerate(dice.dice_list, start = 1):\n",
    "        die.value = (index % 6) + 1  # Set initial values using the property setter\n",
    "        print(f\"Die {index} initial value set to: {die.value}\")  # Access using the property getter\n",
    "\n",
    "    choice = \"y\"\n",
    "    while choice.lower() == \"y\":\n",
    "        # Roll the dice\n",
    "        dice.rollAll()\n",
    " \n",
    "        # Display to the user\n",
    "        print(\"YOUR ROLL: \", end=\"\")\n",
    "       \n",
    "        for die in dice.dice_list:\n",
    "            print(die.value, end=\" \")  # Access using the property getter\n",
    "        print(\"\\n\")\n",
    " \n",
    "        choice = input(\"Roll again? (y/n): \")\n",
    "\n",
    "    print(\"Bye!\")\n",
    "\n",
    "if __name__ == \"__main__\":\n",
    "    main()"
   ]
  },
  {
   "cell_type": "code",
   "execution_count": 44,
   "id": "ef91ebd9-d53e-4e7f-b57c-f043c51d3966",
   "metadata": {},
   "outputs": [],
   "source": [
    "# Providing an example with other decorator @<property_name>.setter:\n",
    "# @ property \n",
    "# @ <property_name>.setter\n",
    "# @ <property_name>.getter"
   ]
  },
  {
   "cell_type": "code",
   "execution_count": 45,
   "id": "c46e4a05-02ca-486f-adea-e5e256930cb4",
   "metadata": {},
   "outputs": [
    {
     "name": "stdout",
     "output_type": "stream",
     "text": [
      "Initial value: 0\n",
      "Updated value: 42\n"
     ]
    }
   ],
   "source": [
    "class MyClass:\n",
    "    def __init__(self):\n",
    "        self._value = 0\n",
    "\n",
    "    @property\n",
    "    def value(self):\n",
    "        \"\"\"Getter for value\"\"\"\n",
    "        return self._value\n",
    "\n",
    "    @value.getter\n",
    "    def value(self):\n",
    "        \"\"\"This is the same as the previous getter, but defined explicitly.\"\"\"\n",
    "        return self._value\n",
    "\n",
    "    @value.setter\n",
    "    def value(self, new_value):\n",
    "        \"\"\"Setter for value\"\"\"\n",
    "        self._value = new_value\n",
    "\n",
    "# Create an instance of MyClass\n",
    "my_instance = MyClass()\n",
    "\n",
    "# Access the value using the getter\n",
    "print(\"Initial value:\", my_instance.value)  # Output: 0\n",
    "\n",
    "# Set a new value using the setter\n",
    "my_instance.value = 42\n",
    "\n",
    "# Access the updated value\n",
    "print(\"Updated value:\", my_instance.value)  # Output: 42"
   ]
  },
  {
   "cell_type": "code",
   "execution_count": 46,
   "id": "e27465e8-ed48-4ba8-9401-0ceca041d977",
   "metadata": {},
   "outputs": [],
   "source": [
    "# Example with @property, @<property_name>.getter, and @<property_name>.setter"
   ]
  },
  {
   "cell_type": "code",
   "execution_count": 47,
   "id": "90a5d754-3e75-4baa-ba6b-ee4c9a6bd97d",
   "metadata": {},
   "outputs": [
    {
     "name": "stdout",
     "output_type": "stream",
     "text": [
      "Accessing the temperature in Celsius\n",
      "25\n",
      "Accessing the temperature in Fahrenheit\n",
      "86.0\n",
      "Accessing the temperature in Celsius\n",
      "30.0\n"
     ]
    }
   ],
   "source": [
    "class Temperature:\n",
    "    def __init__(self, celsius):\n",
    "        self._celsius = celsius  # Private attribute to store the temperature in Celsius\n",
    "\n",
    "    @property\n",
    "    def celsius(self):\n",
    "        \"\"\"Getter for Celsius temperature.\"\"\"\n",
    "        return self._celsius\n",
    "\n",
    "    @celsius.getter\n",
    "    def celsius(self):\n",
    "        \"\"\"Explicit Celsius getter with additional behavior.\"\"\"\n",
    "        print(\"Accessing the temperature in Celsius\")\n",
    "        return self._celsius\n",
    "\n",
    "    @celsius.setter\n",
    "    def celsius(self, value):\n",
    "        \"\"\"Setter for Celsius temperature with validation.\"\"\"\n",
    "        if value < -273.15:\n",
    "            raise ValueError(\"Temperature cannot be below -273.15°C\")\n",
    "        self._celsius = value\n",
    "\n",
    "    @property\n",
    "    def fahrenheit(self):\n",
    "        \"\"\"Getter for Fahrenheit temperature, computed from Celsius.\"\"\"\n",
    "        return (self._celsius * 9/5) + 32\n",
    "\n",
    "    @fahrenheit.getter\n",
    "    def fahrenheit(self):\n",
    "        \"\"\"Explicit Fahrenheit getter with additional behavior.\"\"\"\n",
    "        print(\"Accessing the temperature in Fahrenheit\")\n",
    "        return (self._celsius * 9/5) + 32\n",
    "\n",
    "    @fahrenheit.setter\n",
    "    def fahrenheit(self, value):\n",
    "        \"\"\"Setter for Fahrenheit temperature, setting the Celsius equivalent.\"\"\"\n",
    "        self._celsius = (value - 32) * 5/9\n",
    "\n",
    "# Using the Temperature class\n",
    "temp = Temperature(25)   # Initialize temperature to 25°C\n",
    "print(temp.celsius)      # Accessing in Celsius, calls the custom getter\n",
    "temp.celsius = 30        # Set new temperature in Celsius\n",
    "\n",
    "print(temp.fahrenheit)   # Access temperature in Fahrenheit, calls the custom getter\n",
    "temp.fahrenheit = 86     # Set temperature in Fahrenheit, updating Celsius\n",
    "print(temp.celsius)      # Access the updated Celsius temperature"
   ]
  },
  {
   "cell_type": "code",
   "execution_count": 48,
   "id": "d2d44d89-fbb2-4a11-bddf-642edbf33e21",
   "metadata": {},
   "outputs": [],
   "source": [
    "# Here is another example, demonstrating a Rectangle class with width and height attributes. \n",
    "# It uses properties and custom getters/setters to calculate and update the area."
   ]
  },
  {
   "cell_type": "code",
   "execution_count": 49,
   "id": "a1b89155-770b-49f8-8dcd-72915a376775",
   "metadata": {},
   "outputs": [
    {
     "name": "stdout",
     "output_type": "stream",
     "text": [
      "Width: 5\n",
      "Height: 10\n",
      "Area: 50\n",
      "Updated Width: 7\n",
      "Updated Height: 14\n",
      "Updated Area: 98\n"
     ]
    }
   ],
   "source": [
    "class Rectangle:\n",
    "    def __init__(self, width, height):\n",
    "        self._width = width\n",
    "        self._height = height\n",
    "\n",
    "    @property\n",
    "    def width(self):\n",
    "        \"\"\"Getter for width.\"\"\"\n",
    "        return self._width\n",
    "\n",
    "    @width.getter\n",
    "    def width(self):\n",
    "        \"\"\"Explicit getter for width.\"\"\"\n",
    "        return self._width\n",
    "\n",
    "    @width.setter\n",
    "    def width(self, value):\n",
    "        \"\"\"Setter for width, ensuring it's positive.\"\"\"\n",
    "        if value <= 0:\n",
    "            raise ValueError(\"Width must be positive\")\n",
    "        self._width = value\n",
    "\n",
    "    @property\n",
    "    def height(self):\n",
    "        \"\"\"Getter for height.\"\"\"\n",
    "        return self._height\n",
    "\n",
    "    @height.getter\n",
    "    def height(self):\n",
    "        \"\"\"Explicit getter for height.\"\"\"\n",
    "        return self._height\n",
    "\n",
    "    @height.setter\n",
    "    def height(self, value):\n",
    "        \"\"\"Setter for height, ensuring it's positive.\"\"\"\n",
    "        if value <= 0:\n",
    "            raise ValueError(\"Height must be positive\")\n",
    "        self._height = value\n",
    "\n",
    "    @property\n",
    "    def area(self):\n",
    "        \"\"\"Calculates the area based on width and height.\"\"\"\n",
    "        return self._width * self._height\n",
    "\n",
    "    @area.getter\n",
    "    def area(self):\n",
    "        \"\"\"Explicit getter for area.\"\"\"\n",
    "        return self._width * self._height\n",
    "\n",
    "\n",
    "# Usage of Rectangle class\n",
    "rect = Rectangle(5, 10)\n",
    "\n",
    "# Access width and height using the getters\n",
    "print(\"Width:\", rect.width)    # Output: 5\n",
    "print(\"Height:\", rect.height)  # Output: 10\n",
    "\n",
    "# Access area (computed property)\n",
    "print(\"Area:\", rect.area)      # Output: 50\n",
    "\n",
    "# Update width and height using the setters\n",
    "rect.width = 7\n",
    "rect.height = 14\n",
    "\n",
    "# Access updated values and area\n",
    "print(\"Updated Width:\", rect.width)   # Output: 7\n",
    "print(\"Updated Height:\", rect.height) # Output: 14\n",
    "print(\"Updated Area:\", rect.area)     # Output: 98\n"
   ]
  },
  {
   "cell_type": "code",
   "execution_count": 50,
   "id": "5a4752aa-cb9f-4a68-81e9-ce6acfe02d68",
   "metadata": {},
   "outputs": [],
   "source": [
    "# PRODUCTS"
   ]
  },
  {
   "cell_type": "code",
   "execution_count": 51,
   "id": "205d2e16-48dc-476a-a25d-aee1f39d687b",
   "metadata": {},
   "outputs": [
    {
     "name": "stdout",
     "output_type": "stream",
     "text": [
      "This is a product.\n",
      "This is a book.\n"
     ]
    }
   ],
   "source": [
    "from dataclasses import dataclass\n",
    "\n",
    "@dataclass\n",
    "class Product:\n",
    "    name:str = \"\"\n",
    "    price:float = 0.0\n",
    "    discountPercent:float = 0\n",
    " \n",
    "    def getDescription(self):\n",
    "        return self.name\n",
    "\n",
    "    def getDiscountAmount(self):\n",
    "        return self.price * self.discountPercent / 100\n",
    " \n",
    "    def getDiscountPrice(self):\n",
    "        return self.price - self.getDiscountAmount()\n",
    "   \n",
    "@dataclass\n",
    "class Book(Product):\n",
    "    author:str = \"\"\n",
    " \n",
    "    def getDescription(self):\n",
    "        return f\"{Product.getDescription(self)} by {self.author}\"\n",
    "               \n",
    "class Movie(Product):\n",
    "    year:int = 0\n",
    " \n",
    "    def getDescription(self):\n",
    "        return f\"{Product.getDescription(self)} ({str(self.year)})\"\n",
    "\n",
    " \n",
    "product = Book(\"Catcher in the Rye\", 9.99, \"J. D. Salinger\")\n",
    "if isinstance(product, Product):\n",
    "    print(\"This is a product.\")\n",
    "if isinstance(product, Movie):\n",
    "    print(\"This is a movie.\")\n",
    "if isinstance(product, Book):\n",
    "    print(\"This is a book.\")"
   ]
  },
  {
   "cell_type": "code",
   "execution_count": 52,
   "id": "ba44b9ec-881e-4238-96e5-91143d9ba6db",
   "metadata": {},
   "outputs": [
    {
     "name": "stdout",
     "output_type": "stream",
     "text": [
      "The Product Viewer program\n",
      "\n",
      "PRODUCTS\n",
      "1. Stanley 13 Ounce Wood Hammer\n",
      "2. National Hardware 3/4\" Wire Nails\n",
      "3. Economy Duct Tape, 60 yds, Silver\n",
      "\n"
     ]
    },
    {
     "name": "stdin",
     "output_type": "stream",
     "text": [
      "Enter product number:  2\n"
     ]
    },
    {
     "name": "stdout",
     "output_type": "stream",
     "text": [
      "Name:             National Hardware 3/4\" Wire Nails\n",
      "Price:            5.06\n",
      "Discount percent: 0%\n",
      "Discount amount:  0.00\n",
      "Discount price:   5.06\n",
      "\n"
     ]
    },
    {
     "name": "stdin",
     "output_type": "stream",
     "text": [
      "View another product? (y/n):  n\n"
     ]
    },
    {
     "name": "stdout",
     "output_type": "stream",
     "text": [
      "\n",
      "Bye!\n"
     ]
    }
   ],
   "source": [
    "## def show_products(products):\n",
    "   print(\"PRODUCTS\")\n",
    "   for i, product in enumerate(products, start=1):\n",
    "       print(f\"{i}. {product.name}\")\n",
    "   print()\n",
    "\n",
    "def show_product(product):\n",
    "    w = 18\n",
    "    print(f\"{'Name:':{w}}{product.name}\")\n",
    "    print(f\"{'Price:':{w}}{product.price:.2f}\")\n",
    "    print(f\"{'Discount percent:':{w}}{product.discountPercent:d}%\")\n",
    "    print(f\"{'Discount amount:':{w}}{product.getDiscountAmount():.2f}\")\n",
    "    print(f\"{'Discount price:':{w}}{product.getDiscountPrice():.2f}\")\n",
    "    print()\n",
    "\n",
    "def get_products():\n",
    "   # return a tuple of Product objects\n",
    "   return (Product(\"Stanley 13 Ounce Wood Hammer\", 12.99, 62),\n",
    "           Product('National Hardware 3/4\" Wire Nails', 5.06, 0),\n",
    "           Product(\"Economy Duct Tape, 60 yds, Silver\", 7.24, 0))\n",
    "def get_product(products):\n",
    "    while True:\n",
    "       try:\n",
    "          number = int(input(\"Enter product number: \"))\n",
    "          if number < 1 or number > len(products):\n",
    "              print(\"Product number out of range. \"\n",
    "                    \"Please try again.\")\n",
    "          else:\n",
    "              return products[number-1]\n",
    "       except ValueError:\n",
    "              print(\"Invalid number. Please try again.\")\n",
    "       print()\n",
    "\n",
    "def main():\n",
    "   print(\"The Product Viewer program\")\n",
    "   print()\n",
    "\n",
    "   products = get_products()\n",
    "   show_products(products)\n",
    " \n",
    "   choice = \"y\"\n",
    "   \n",
    "   while choice.lower() == \"y\":\n",
    "         product = get_product(products)\n",
    "         show_product(product)\n",
    " \n",
    "         choice = input(\"View another product? (y/n): \")\n",
    "         print()\n",
    "   print(\"Bye!\")\n",
    "\n",
    "if __name__ == \"__main__\":\n",
    "   main()"
   ]
  },
  {
   "cell_type": "code",
   "execution_count": null,
   "id": "c49bbd76-a625-4004-aed5-035b71b12e7c",
   "metadata": {},
   "outputs": [],
   "source": []
  },
  {
   "cell_type": "code",
   "execution_count": 53,
   "id": "35bc9d52-f647-4e9c-b529-4e49c7488bf2",
   "metadata": {},
   "outputs": [],
   "source": [
    "# the __iter__ method :"
   ]
  },
  {
   "cell_type": "code",
   "execution_count": 54,
   "id": "a63f2c74-56d3-4330-b69a-24070f545466",
   "metadata": {},
   "outputs": [],
   "source": [
    "# The __iter__ method is a special method in Python that makes an object iterable."
   ]
  },
  {
   "cell_type": "code",
   "execution_count": 55,
   "id": "ecdd95e3-e20e-48dc-b6af-9f9d26b102d5",
   "metadata": {},
   "outputs": [],
   "source": [
    "# It is part of Python’s iterator protocol, which allows objects to be looped over in a for loop or used with functions \n",
    "# like list(), sum(), and many others that require iterable objects. \n",
    "# When you define __iter__ in a class, you're essentially telling Python how to start iterating over instances of that class."
   ]
  },
  {
   "cell_type": "code",
   "execution_count": 56,
   "id": "45eae42d-6dc7-4033-9aa7-1060019617fe",
   "metadata": {},
   "outputs": [],
   "source": [
    "# By defining __iter__, you control the behavior of iteration for your class, \n",
    "# allowing for custom sequences or iterating over specific properties"
   ]
  },
  {
   "cell_type": "code",
   "execution_count": 57,
   "id": "1f2e4bea-e4d3-4775-83d2-e8c46943fcb5",
   "metadata": {},
   "outputs": [
    {
     "name": "stdout",
     "output_type": "stream",
     "text": [
      "0\n",
      "1\n",
      "2\n",
      "3\n",
      "4\n"
     ]
    }
   ],
   "source": [
    "class MyNumbers:\n",
    "    \n",
    "    def __init__(self, max_num):\n",
    "        self.max_num = max_num\n",
    "        self.current = 0  # Track the current state for iteration\n",
    "\n",
    "    def __iter__(self):\n",
    "        self.current = 0  # Reset for new iteration\n",
    "        return self  # Returning self, because this class also defines __next__\n",
    "\n",
    "    def __next__(self):\n",
    "        if self.current < self.max_num:\n",
    "            number = self.current\n",
    "            self.current += 1\n",
    "            return number\n",
    "        else:\n",
    "            raise StopIteration  # End of iteration\n",
    "            \n",
    "numbers = MyNumbers(5)\n",
    "for number in numbers:\n",
    "    print(number)  # Output will be 0, 1, 2, 3, 4\n",
    "\n",
    "# When for number in numbers: is called, Python internally calls numbers.__iter__(). \n",
    "# Since MyNumbers returns self from __iter__, the same instance becomes its own iterator.\n",
    "# __next__: Python repeatedly calls __next__() on the object until StopIteration is raised, signaling the end of the sequence."
   ]
  },
  {
   "cell_type": "code",
   "execution_count": 58,
   "id": "60c3e5d0-5528-47f3-a760-e5417c110678",
   "metadata": {},
   "outputs": [
    {
     "name": "stdout",
     "output_type": "stream",
     "text": [
      "ALICE\n",
      "BOB\n",
      "CHARLIE\n"
     ]
    }
   ],
   "source": [
    "class UpperCaseNames:\n",
    "    def __init__(self, names):\n",
    "        self.names = names\n",
    "        self.index = 0  # Track the position in the list for iteration\n",
    "\n",
    "    def __iter__(self):\n",
    "        self.index = 0  # Reset the index each time a new iteration starts\n",
    "        return self\n",
    "\n",
    "    def __next__(self):\n",
    "        if self.index < len(self.names):\n",
    "            current_name = self.names[self.index].upper()  # Get the current name in uppercase\n",
    "            self.index += 1\n",
    "            return current_name\n",
    "        else:\n",
    "            raise StopIteration  # End of iteration\n",
    "\n",
    "\n",
    "names = UpperCaseNames([\"alice\", \"bob\", \"charlie\"])\n",
    "for name in names:\n",
    "    print(name)  # Output will be ALICE, BOB, CHARLIE\n"
   ]
  },
  {
   "cell_type": "code",
   "execution_count": 59,
   "id": "c3741ab8-7257-4f38-89fa-239f0d8bb893",
   "metadata": {},
   "outputs": [],
   "source": [
    "# __iter__: When the for loop begins, names.__iter__() is called, setting self.index to 0 and returning self.\n",
    "# __next__: Each time __next__() is called, it:\n",
    "\n",
    "#    Checks if self.index is within the list length.\n",
    "#    Converts the name at the current index to uppercase.\n",
    "#    Increments the index by 1 and returns the name in uppercase.\n",
    "\n",
    "# StopIteration: Once self.index reaches the end of the list, StopIteration is raised, ending the iteration."
   ]
  },
  {
   "cell_type": "code",
   "execution_count": 60,
   "id": "bdb3da3a-c210-40d4-a61a-6d966c94aa66",
   "metadata": {},
   "outputs": [
    {
     "name": "stdout",
     "output_type": "stream",
     "text": [
      "0\n",
      "1\n",
      "1\n",
      "2\n",
      "3\n",
      "5\n",
      "8\n",
      "13\n",
      "21\n",
      "34\n"
     ]
    }
   ],
   "source": [
    "class Fibonacci:\n",
    "    def __init__(self, max_count):\n",
    "        self.max_count = max_count  # Total terms to generate\n",
    "        self.count = 0              # Track the current term count\n",
    "        self.a, self.b = 0, 1       # Starting values for the Fibonacci sequence\n",
    "\n",
    "    def __iter__(self):\n",
    "        self.count = 0  # Reset count each time a new iteration starts\n",
    "        self.a, self.b = 0, 1  # Reset the first two Fibonacci numbers\n",
    "        return self\n",
    "\n",
    "    def __next__(self):\n",
    "        if self.count < self.max_count:\n",
    "            self.count += 1\n",
    "            value = self.a\n",
    "            self.a, self.b = self.b, self.a + self.b  # Update to the next pair in the sequence\n",
    "            return value\n",
    "        else:\n",
    "            raise StopIteration  # End of iteration\n",
    "\n",
    "\n",
    "fib_sequence = Fibonacci(10)\n",
    "for number in fib_sequence:\n",
    "    print(number)  # Output will be the first 10 Fibonacci numbers: 0, 1, 1, 2, 3, 5, 8, 13, 21, 34\n"
   ]
  },
  {
   "cell_type": "code",
   "execution_count": 61,
   "id": "f2306ac2-d227-4259-a73f-e39bda22b653",
   "metadata": {},
   "outputs": [],
   "source": [
    "# In the example below :\n",
    "\n",
    "# __init__: Sets up the initial and ending values.\n",
    "# __iter__: Returns self, making the class its own iterator.\n",
    "# __next__:\n",
    "\n",
    "# Checks if current is within the range (i.e., less than or equal to end).\n",
    "# If so, it returns current and increments it for the next call.\n",
    "# Once current exceeds end, it raises StopIteration, ending the loop."
   ]
  },
  {
   "cell_type": "code",
   "execution_count": null,
   "id": "c77f2c3b-9850-48be-b61b-bc8080e01baf",
   "metadata": {},
   "outputs": [],
   "source": []
  },
  {
   "cell_type": "code",
   "execution_count": 62,
   "id": "cf897a73-0cc4-4fb4-83e4-be2feaea1d74",
   "metadata": {},
   "outputs": [
    {
     "name": "stdout",
     "output_type": "stream",
     "text": [
      "1\n",
      "2\n",
      "3\n",
      "4\n",
      "5\n"
     ]
    }
   ],
   "source": [
    "class Counter:\n",
    "    def __init__(self, start, end):\n",
    "        self.current = start  # Starting point\n",
    "        self.end = end        # Maximum limit for counting\n",
    "\n",
    "    def __iter__(self):\n",
    "        return self  # Returning self because this object is its own iterator\n",
    "\n",
    "    def __next__(self):\n",
    "        if self.current <= self.end:\n",
    "            value = self.current\n",
    "            self.current += 1  # Move to the next number\n",
    "            return value\n",
    "        else:\n",
    "            raise StopIteration  # End of iteration\n",
    "\n",
    "\n",
    "counter = Counter(1, 5)\n",
    "for number in counter:\n",
    "    print(number)  # Output: 1, 2, 3, 4, 5\n"
   ]
  },
  {
   "cell_type": "code",
   "execution_count": 63,
   "id": "df4e54ce-8caa-4904-9f61-dc69b500bc18",
   "metadata": {},
   "outputs": [],
   "source": [
    "# __post_init__ is a special method used in data classes. \n",
    "# Data classes were introduced in Python 3.7 via the dataclasses module \n",
    "# to provide a convenient way to define classes that primarily store data.\n",
    "\n",
    "# The __post_init__ method is unique to data classes and allows you to customize what happens right after the generated __init__ method runs.\n",
    "# It’s especially useful for any additional initialization or validation you might need after the main __init__ method \n",
    "# has populated the fields.\n",
    "\n",
    "# additional INITIALIZATION\n",
    "# additional VALIDATION"
   ]
  },
  {
   "cell_type": "code",
   "execution_count": 64,
   "id": "b4d76f58-bd55-4190-920f-53ff9e5e83de",
   "metadata": {},
   "outputs": [
    {
     "name": "stdout",
     "output_type": "stream",
     "text": [
      "Age cannot be negative\n"
     ]
    }
   ],
   "source": [
    "from dataclasses import dataclass\n",
    "\n",
    "@dataclass\n",
    "class Person:\n",
    "    name: str\n",
    "    age: int\n",
    "\n",
    "    def __post_init__(self):\n",
    "        if self.age < 0:\n",
    "            raise ValueError(\"Age cannot be negative\")\n",
    "\n",
    "# Usage\n",
    "try:\n",
    "    person = Person(\"Alice\", -5)\n",
    "except ValueError as e:\n",
    "    print(e)  # Output: Age cannot be negative\n"
   ]
  },
  {
   "cell_type": "code",
   "execution_count": 65,
   "id": "4d4a96c3-06d0-4da2-8633-b04bba06d975",
   "metadata": {},
   "outputs": [
    {
     "name": "stdout",
     "output_type": "stream",
     "text": [
      "Salary cannot be negative\n"
     ]
    }
   ],
   "source": [
    "from dataclasses import dataclass\n",
    "\n",
    "@dataclass\n",
    "class Employee:\n",
    "    name: str\n",
    "    salary: float\n",
    "\n",
    "    def __post_init__(self):\n",
    "        if self.salary < 0:\n",
    "            raise ValueError(\"Salary cannot be negative\")\n",
    "\n",
    "# Usage\n",
    "try:\n",
    "    emp = Employee(\"John Doe\", -5000)\n",
    "except ValueError as e:\n",
    "    print(e)  # Output: Salary cannot be negative\n"
   ]
  },
  {
   "cell_type": "code",
   "execution_count": 66,
   "id": "265494fb-9c1a-4f73-b0b2-d3efd7a60312",
   "metadata": {},
   "outputs": [
    {
     "name": "stdout",
     "output_type": "stream",
     "text": [
      "x must be between 0.0 and 100.0\n"
     ]
    }
   ],
   "source": [
    "from dataclasses import dataclass\n",
    "\n",
    "@dataclass\n",
    "class Point:\n",
    "    x: float\n",
    "    y: float\n",
    "    range_min: float = 0.0\n",
    "    range_max: float = 100.0\n",
    "\n",
    "    def __post_init__(self):\n",
    "        if not (self.range_min <= self.x <= self.range_max):\n",
    "            raise ValueError(f\"x must be between {self.range_min} and {self.range_max}\")\n",
    "        if not (self.range_min <= self.y <= self.range_max):\n",
    "            raise ValueError(f\"y must be between {self.range_min} and {self.range_max}\")\n",
    "\n",
    "# Usage\n",
    "try:\n",
    "    point = Point(150, 50)\n",
    "except ValueError as e:\n",
    "    print(e)  # Output: x must be between 0.0 and 100.0\n"
   ]
  },
  {
   "cell_type": "code",
   "execution_count": null,
   "id": "32a298e5-dae8-40de-8938-c3f3b2133ddb",
   "metadata": {},
   "outputs": [],
   "source": []
  },
  {
   "cell_type": "code",
   "execution_count": 67,
   "id": "e7367225-d0fc-497a-ab85-339c3e03d69e",
   "metadata": {},
   "outputs": [],
   "source": [
    "# the __str__ method :"
   ]
  },
  {
   "cell_type": "code",
   "execution_count": 68,
   "id": "93d69438-cf5e-488e-aca8-bd1c9a46a039",
   "metadata": {},
   "outputs": [],
   "source": [
    "# The __str__ method in a Python class is a special method that is used to define a human-readable string representation of an object. \n",
    "# When you call the str() function or use the print() function on an instance of a class, Python looks for this method to determine \n",
    "# how to convert the object to a string.\n",
    "\n",
    "# Purpose of __str__\n",
    "# Human-Readable Output: The main goal of __str__ is to provide a user-friendly string representation of an object. \n",
    "# This representation is typically more informal and easier to understand than the output of __repr__.\n",
    "# Custom Formatting: You can customize how the object is presented when converted to a string, making it clearer what the object represents."
   ]
  },
  {
   "cell_type": "code",
   "execution_count": 69,
   "id": "8fdc0220-6917-4678-8c54-e209a512c51c",
   "metadata": {},
   "outputs": [
    {
     "name": "stdout",
     "output_type": "stream",
     "text": [
      "Alice, 30 years old\n"
     ]
    }
   ],
   "source": [
    "class Person:\n",
    "    def __init__(self, name, age):\n",
    "        self.name = name\n",
    "        self.age = age\n",
    "\n",
    "    def __str__(self):\n",
    "        return f\"{self.name}, {self.age} years old\"\n",
    "\n",
    "# Usage\n",
    "person = Person(\"Alice\", 30)\n",
    "print(person)  # Output: Alice, 30 years old"
   ]
  },
  {
   "cell_type": "code",
   "execution_count": 70,
   "id": "3d68b26a-1c13-4ccb-8b7a-6d413db277e3",
   "metadata": {},
   "outputs": [
    {
     "name": "stdout",
     "output_type": "stream",
     "text": [
      "2022 Toyota Camry\n"
     ]
    }
   ],
   "source": [
    "class Car:\n",
    "    def __init__(self, make, model, year):\n",
    "        self.make = make\n",
    "        self.model = model\n",
    "        self.year = year\n",
    "\n",
    "    def __str__(self):\n",
    "        return f\"{self.year} {self.make} {self.model}\"\n",
    "\n",
    "# Usage\n",
    "car = Car(\"Toyota\", \"Camry\", 2022)\n",
    "print(car)  # Output: 2022 Toyota Camry\n"
   ]
  },
  {
   "cell_type": "code",
   "execution_count": 71,
   "id": "8f5e5b3c-3e94-485e-b4b7-c5e9af008ce3",
   "metadata": {},
   "outputs": [
    {
     "name": "stdout",
     "output_type": "stream",
     "text": [
      "1984 by George Orwell\n",
      "Book(title='1984', author='George Orwell')\n"
     ]
    }
   ],
   "source": [
    "class Book:\n",
    "    def __init__(self, title, author):\n",
    "        self.title = title\n",
    "        self.author = author\n",
    "\n",
    "    def __str__(self):\n",
    "        return f\"{self.title} by {self.author}\"\n",
    "\n",
    "    def __repr__(self):\n",
    "        return f\"Book(title='{self.title}', author='{self.author}')\"\n",
    "\n",
    "\n",
    "book = Book(\"1984\", \"George Orwell\")\n",
    "print(str(book))   # Output: 1984 by George Orwell\n",
    "print(repr(book))  # Output: Book(title='1984', author='George Orwell')"
   ]
  },
  {
   "cell_type": "code",
   "execution_count": 72,
   "id": "be99ac4a-0b9e-4bab-ab13-d538b6168efa",
   "metadata": {},
   "outputs": [],
   "source": [
    "# The __repr__ method in Python is a special method that defines a formal string representation of an object. \n",
    "# The primary purpose of __repr__ is to provide an unambiguous string representation that ideally could be used to recreate the object. \n",
    "# This is especially useful for debugging and logging, as it gives developers insight into the internal state of an object."
   ]
  },
  {
   "cell_type": "code",
   "execution_count": 73,
   "id": "ed8d4412-0ce3-4d6a-a76d-340abc22adf0",
   "metadata": {},
   "outputs": [
    {
     "name": "stdout",
     "output_type": "stream",
     "text": [
      "Point(x=3, y=4)\n"
     ]
    }
   ],
   "source": [
    "def __repr__(self):\n",
    "    return \"string representation\"\n",
    "\n",
    "class Point:\n",
    "    def __init__(self, x, y):\n",
    "        self.x = x\n",
    "        self.y = y\n",
    "\n",
    "    def __repr__(self):\n",
    "        return f\"Point(x={self.x}, y={self.y})\"\n",
    "\n",
    "\n",
    "point = Point(3, 4)\n",
    "print(repr(point))  # Output: Point(x=3, y=4)\n",
    "\n",
    "# __repr__ Method: Returns a string that includes the class name and the values of its attributes in a way that could help reconstruct the object.\n",
    "# Printing the Object: When you call repr(point), it invokes the __repr__ method, resulting in the output \"Point(x=3, y=4)\"."
   ]
  }
 ],
 "metadata": {
  "kernelspec": {
   "display_name": "Python 3 (ipykernel)",
   "language": "python",
   "name": "python3"
  },
  "language_info": {
   "codemirror_mode": {
    "name": "ipython",
    "version": 3
   },
   "file_extension": ".py",
   "mimetype": "text/x-python",
   "name": "python",
   "nbconvert_exporter": "python",
   "pygments_lexer": "ipython3",
   "version": "3.9.20"
  }
 },
 "nbformat": 4,
 "nbformat_minor": 5
}
