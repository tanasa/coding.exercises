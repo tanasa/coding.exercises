{
 "cells": [
  {
   "cell_type": "code",
   "execution_count": 1,
   "id": "5dd5f251-845d-4f2b-b234-522ab088fce2",
   "metadata": {},
   "outputs": [
    {
     "name": "stdout",
     "output_type": "stream",
     "text": [
      "[1, 4, 9, 16, 25]\n",
      "[1, 4, 9, 16, 25]\n",
      "[5, 7, 9]\n"
     ]
    }
   ],
   "source": [
    "# Map\n",
    "\n",
    "# The map() function in Python is a built-in function used to apply a specified function to all items \n",
    "# in an iterable (like a list, tuple, or set) and return an iterator (or map object) containing the results.\n",
    "\n",
    "# map(function, iterable, ...)\n",
    "# function: The function to apply to each item in the iterable. This function must take as many arguments as there are iterables.\n",
    "# iterable: One or more iterables (e.g., lists, tuples, sets) whose elements will be processed by the function.\n",
    "\n",
    "def square(x):\n",
    "    return x ** 2\n",
    "\n",
    "numbers = [1, 2, 3, 4, 5]\n",
    "squared_numbers = map(square, numbers)\n",
    "\n",
    "# Convert the map object to a list to see the results\n",
    "squared_list = list(squared_numbers)\n",
    "print(squared_list)  # Output: [1, 4, 9, 16, 25]\n",
    "\n",
    "# You can also use map() with a lambda function for concise code:\n",
    "\n",
    "numbers = [1, 2, 3, 4, 5]\n",
    "squared_numbers = map(lambda x: x ** 2, numbers)\n",
    "\n",
    "squared_list = list(squared_numbers)\n",
    "print(squared_list)  # Output: [1, 4, 9, 16, 25]\n",
    "\n",
    "# map() can also accept multiple iterables. \n",
    "# The function should then take as many arguments as there are iterables. \n",
    "# It applies the function to the items of the iterables in parallel:\n",
    "\n",
    "def add(x, y):\n",
    "    return x + y\n",
    "\n",
    "numbers1 = [1, 2, 3]\n",
    "numbers2 = [4, 5, 6]\n",
    "result = map(add, numbers1, numbers2)\n",
    "\n",
    "result_list = list(result)\n",
    "print(result_list)  # Output: [5, 7, 9]"
   ]
  },
  {
   "cell_type": "code",
   "execution_count": null,
   "id": "27ace9fb-7ded-45a1-bc27-b52a49331c87",
   "metadata": {},
   "outputs": [],
   "source": []
  },
  {
   "cell_type": "code",
   "execution_count": 2,
   "id": "a95a024b-2ce0-4c0f-93d8-dfd0ec3e9f65",
   "metadata": {},
   "outputs": [
    {
     "name": "stdout",
     "output_type": "stream",
     "text": [
      "120\n",
      "16\n"
     ]
    }
   ],
   "source": [
    "# Reduce\n",
    "\n",
    "# The reduce() function in Python is a part of the functools module and is used to apply a specified function cumulatively \n",
    "# to the items of an iterable (like a list or tuple). It reduces the iterable to a single cumulative value.\n",
    "\n",
    "from functools import reduce\n",
    "\n",
    "# function: A function that takes two arguments and returns a single value. \n",
    "# This function is applied cumulatively to the items in the iterable.\n",
    "# iterable: The iterable whose items will be processed by the function (lists, sets, tuples).\n",
    "\n",
    "# reduce(function, iterable[, initializer])\n",
    "\n",
    "# reduce() takes the first two elements of the iterable and applies the function to them.\n",
    "# It then takes the result and the next item in the iterable and applies the function again.\n",
    "# This process continues until all items in the iterable have been processed.\n",
    "# The final result is a single cumulative value.\n",
    "\n",
    "# You can also use a lambda function with reduce() for concise code:\n",
    "\n",
    "numbers = [1, 2, 3, 4, 5]\n",
    "result = reduce(lambda x, y: x * y, numbers)\n",
    "print(result)  # Output: 120\n",
    "\n",
    "# Using Initializer\n",
    "# If you provide an initializer, it will be used as the starting point for the reduction:\n",
    "\n",
    "numbers = [1, 2, 3]\n",
    "result = reduce(lambda x, y: x + y, numbers, 10)\n",
    "print(result)  # Output: 16 (10 + 1 + 2 + 3)"
   ]
  },
  {
   "cell_type": "code",
   "execution_count": null,
   "id": "eb322ea1-aaf1-4f0b-906f-f332059b7387",
   "metadata": {},
   "outputs": [],
   "source": []
  },
  {
   "cell_type": "code",
   "execution_count": 3,
   "id": "f8f4cfb9-d01b-4093-aed1-a018ecc6eefa",
   "metadata": {},
   "outputs": [
    {
     "name": "stdout",
     "output_type": "stream",
     "text": [
      "[2, 4, 6]\n",
      "[2, 4, 6]\n",
      "Hll Wrld\n"
     ]
    }
   ],
   "source": [
    "# Filter\n",
    "\n",
    "# The filter() function in Python is a built-in function used to filter elements from an iterable (like a list, tuple, or string) \n",
    "# based on a specified condition. \n",
    "# It returns an iterator that contains only the elements for which the provided function returns True.\n",
    "\n",
    "# filter(function, iterable)\n",
    "# function: A function that tests whether each element of the iterable meets a certain condition. It should return True or False.\n",
    "# iterable: The iterable (e.g., list, tuple) whose elements will be tested by the function.\n",
    "\n",
    "# How It Works : filter() applies the specified function to each item in the iterable.\n",
    "# Only the items for which the function returns True are included in the resulting iterator.\n",
    "\n",
    "def is_even(n):\n",
    "    return n % 2 == 0\n",
    "\n",
    "numbers = [1, 2, 3, 4, 5, 6]\n",
    "even_numbers = filter(is_even, numbers)\n",
    "\n",
    "# Convert the filter object to a list to see the results\n",
    "even_list = list(even_numbers)\n",
    "print(even_list)  # Output: [2, 4, 6]\n",
    "\n",
    "# Using Lambda Functions\n",
    "# You can also use a lambda function with filter() for more concise code:\n",
    "\n",
    "numbers = [1, 2, 3, 4, 5, 6]\n",
    "even_numbers = filter(lambda x: x % 2 == 0, numbers)\n",
    "\n",
    "even_list = list(even_numbers)\n",
    "print(even_list)  # Output: [2, 4, 6]\n",
    "\n",
    "# Filtering Strings\n",
    "# You can use filter() with strings as well. For instance, you can filter out vowels from a string:\n",
    "\n",
    "def is_consonant(char):\n",
    "    return char.lower() not in 'aeiou'\n",
    "\n",
    "string = \"Hello World\"\n",
    "consonants = filter(is_consonant, string)\n",
    "consonants\n",
    "consonant_list = ''.join(consonants)\n",
    "consonant_list\n",
    "print(consonant_list)  # Output: \"Hll Wrld\""
   ]
  },
  {
   "cell_type": "code",
   "execution_count": null,
   "id": "d25fb651-280f-4da6-8d66-f54de55af7dd",
   "metadata": {},
   "outputs": [],
   "source": []
  },
  {
   "cell_type": "code",
   "execution_count": 4,
   "id": "87854a0a-abff-434e-9406-e546c7e94b69",
   "metadata": {},
   "outputs": [
    {
     "name": "stdout",
     "output_type": "stream",
     "text": [
      "0 apple\n",
      "1 banana\n",
      "2 cherry\n"
     ]
    }
   ],
   "source": [
    "# Enumerate\n",
    "\n",
    "# The enumerate() function in Python is a built-in function used to add a counter to an iterable (like a list, tuple, or string) \n",
    "# and return it as an enumerate object. \n",
    "# This is particularly useful when you need both the index and the value of items in the iterable during iteration.\n",
    "\n",
    "# enumerate(iterable, start=0)\n",
    "# iterable: The iterable to be enumerated (e.g., a list, tuple, or string).\n",
    "# start (optional): The starting index value. The default is 0.\n",
    "\n",
    "# enumerate() takes the iterable and returns an enumerate object.\n",
    "# This object produces pairs of INDEX and VALUE for each item in the iterable.\n",
    "# You can iterate through this object using a loop or convert it to a list.\n",
    "\n",
    "fruits = ['apple', 'banana', 'cherry']\n",
    "\n",
    "for index, fruit in enumerate(fruits):\n",
    "    print(index, fruit)"
   ]
  },
  {
   "cell_type": "code",
   "execution_count": null,
   "id": "082fec89-1f8d-40cd-9a20-65ade1010d25",
   "metadata": {},
   "outputs": [],
   "source": []
  },
  {
   "cell_type": "code",
   "execution_count": 5,
   "id": "5868bf3e-a1f6-4fc5-9d54-22c9e5f1d02b",
   "metadata": {},
   "outputs": [
    {
     "name": "stdout",
     "output_type": "stream",
     "text": [
      "[('Alice', 85), ('Bob', 90), ('Charlie', 95)]\n",
      "[('Alice', 85, 25), ('Bob', 90, 30), ('Charlie', 95, 35)]\n",
      "[('Alice', 85), ('Bob', 90)]\n"
     ]
    }
   ],
   "source": [
    "# Zip\n",
    "\n",
    "# The zip() function in Python is a built-in function used to combine two or more iterables (like lists, tuples, or strings) \n",
    "# into a single iterable of tuples. Each tuple contains elements from the corresponding position in the input iterables. \n",
    "# This is particularly useful for PAIRING elements from multiple sequences.\n",
    "\n",
    "# zip(*iterables)\n",
    "# *iterables: One or more iterables to be zipped together.\n",
    "\n",
    "# How It Works\n",
    "# zip() takes each iterable and pairs the elements based on their positions.\n",
    "# It creates an iterator of tuples, where each tuple contains elements from the input iterables.\n",
    "# If the input iterables are of different lengths, zip() stops creating tuples when the shortest input iterable is exhausted.\n",
    "\n",
    "names = ['Alice', 'Bob', 'Charlie']\n",
    "scores = [85, 90, 95]\n",
    "\n",
    "combined = zip(names, scores)\n",
    "\n",
    "# Convert to a list to see the results\n",
    "result = list(combined)\n",
    "print(result)  # Output: [('Alice', 85), ('Bob', 90), ('Charlie', 95)]\n",
    "\n",
    "# Zipping Multiple Iterables\n",
    "# You can also zip more than two iterables:\n",
    "\n",
    "names = ['Alice', 'Bob', 'Charlie']\n",
    "scores = [85, 90, 95]\n",
    "ages = [25, 30, 35]\n",
    "\n",
    "combined = zip(names, scores, ages)\n",
    "result = list(combined)\n",
    "\n",
    "print(result)\n",
    "# Output: [('Alice', 85, 25), ('Bob', 90, 30), ('Charlie', 95, 35)]\n",
    "\n",
    "# Handling Different Lengths\n",
    "# When zipping iterables of different lengths, zip() stops at the shortest one:\n",
    "\n",
    "names = ['Alice', 'Bob']\n",
    "scores = [85, 90, 95]\n",
    "\n",
    "combined = zip(names, scores)\n",
    "result = list(combined)\n",
    "\n",
    "print(result)  # Output: [('Alice', 85), ('Bob', 90)]"
   ]
  },
  {
   "cell_type": "code",
   "execution_count": null,
   "id": "41a36a15-b34e-4429-8234-a4e07a417e0e",
   "metadata": {},
   "outputs": [],
   "source": []
  },
  {
   "cell_type": "code",
   "execution_count": 6,
   "id": "970f4348-4980-496e-bf25-093d863c8d4d",
   "metadata": {},
   "outputs": [
    {
     "name": "stdout",
     "output_type": "stream",
     "text": [
      "('Alice', 'Bob', 'Charlie')\n",
      "(85, 90, 95)\n"
     ]
    }
   ],
   "source": [
    "# Unzip\n",
    "\n",
    "# You can also unzip a list of tuples back into separate lists using the zip() function with the unpacking operator:\n",
    "\n",
    "combined = [('Alice', 85), ('Bob', 90), ('Charlie', 95)]\n",
    "names, scores = zip(*combined)\n",
    "\n",
    "print(names)  # Output: ('Alice', 'Bob', 'Charlie')\n",
    "print(scores)  # Output: (85, 90, 95)\n",
    "\n",
    "# The unzip operator in Python is the asterisk (*). It is used to unpack elements from an iterable, typically in conjunction with the zip() function.\n",
    "\n",
    "# When you have a list of tuples (or any iterable of iterables) and \n",
    "# you want to separate or \"unzip\" them into individual lists, you can use the * operator."
   ]
  },
  {
   "cell_type": "code",
   "execution_count": null,
   "id": "5954c692-df3c-4be8-9e35-8856936d998d",
   "metadata": {},
   "outputs": [],
   "source": []
  },
  {
   "cell_type": "code",
   "execution_count": 7,
   "id": "b4d6573f-a2cd-44f0-bd1d-c1d3c266c7e5",
   "metadata": {},
   "outputs": [],
   "source": [
    "# Problem 1: Array Manipulation\n",
    "# Write a function named sum_even_numbers that accepts an array of integers as a parameter.\n",
    "# • Inside the function, calculate the sum of all the even numbers in the array.\n",
    "# • Return the sum.\n",
    "# • Test your function by providing different arrays and verifying the outpu"
   ]
  },
  {
   "cell_type": "code",
   "execution_count": 8,
   "id": "0c5adeb4-d99c-4980-afac-7146384519fc",
   "metadata": {},
   "outputs": [
    {
     "name": "stdout",
     "output_type": "stream",
     "text": [
      "Even array exists : [2, 6, 4]\n",
      "The sum is : 12\n",
      "12\n",
      "Even array exists : [50, 20, 40, 10, 30]\n",
      "The sum is : 150\n",
      "150\n",
      "Array does not exist. There are no even numbers.\n",
      "0\n"
     ]
    }
   ],
   "source": [
    "import os\n",
    "import array as array\n",
    "import numpy as np\n",
    "\n",
    "def sum_even_numbers(input_array) :\n",
    "    # my_array = array.array('i', input_array)\n",
    "    my_array = np.array(input_array)\n",
    "    even_array = [x for x in my_array if x % 2 == 0]\n",
    "    if even_array: \n",
    "       print(\"Even array exists :\", even_array)\n",
    "       total_sum = np.sum(even_array)\n",
    "       # for number in even_array:\n",
    "       #    total_sum += number\n",
    "       print(\"The sum is :\", total_sum)\n",
    "       return total_sum\n",
    "    else: \n",
    "       print(\"Array does not exist. There are no even numbers.\")\n",
    "       return 0\n",
    "\n",
    "\n",
    "array1 = [3, 2, 6, 1, 5, 4] # Unsorted version of the first array\n",
    "array2 = [50, 20, 40, 10, 30] # Unsorted version of the second array\n",
    "array3 = [15, 11, 19, 13, 17] # Unsorted, but still contains no even numbers\n",
    "\n",
    "print(sum_even_numbers(array1)) # Expected Output: 12\n",
    "print(sum_even_numbers(array2)) # Expected Output: 100\n",
    "print(sum_even_numbers(array3)) # Expected Output: 0"
   ]
  },
  {
   "cell_type": "code",
   "execution_count": 9,
   "id": "8dabbf03-9c7a-44fd-b266-d414ffbb7ad3",
   "metadata": {},
   "outputs": [],
   "source": [
    "# Problem 2: List Manipulation\n",
    "# • Write a function named long_strings that accepts a list of strings as a parameter.\n",
    "# • Inside the function, iterate through the list and filter out the strings that have more than 5 characters.\n",
    "# • Append the filtered strings to a new list.\n",
    "# • Return the new list.\n",
    "# • Test your function by providing different lists of strings and verifying the output."
   ]
  },
  {
   "cell_type": "code",
   "execution_count": 10,
   "id": "52dff80c-2d1a-4a72-9d94-e0fa768014e4",
   "metadata": {},
   "outputs": [
    {
     "name": "stdout",
     "output_type": "stream",
     "text": [
      "['banana', 'watermelon', 'grapes']\n",
      "[]\n",
      "['python', 'javascript']\n"
     ]
    }
   ],
   "source": [
    "# Problem 2: List Manipulation\n",
    "\n",
    "import os\n",
    "import string \n",
    "\n",
    "def long_strings(lst):\n",
    "    results = list()\n",
    "    for i in lst : \n",
    "        # print(i)\n",
    "        if len(i) > 5 :\n",
    "           results.append(i)\n",
    "    return results \n",
    "    \n",
    "# Testing the function\n",
    "\n",
    "list1 = [\"apple\", \"banana\", \"watermelon\", \"grapes\"]\n",
    "list2 = [\"cat\", \"dog\", \"bird\"]\n",
    "list3 = [\"python\", \"java\", \"c++\", \"javascript\"]\n",
    "\n",
    "print(long_strings(list1)) # Output: ['watermelon', 'grapes']\n",
    "print(long_strings(list2)) # Output: []\n",
    "print(long_strings(list3)) # Output: ['python', 'javascript']"
   ]
  },
  {
   "cell_type": "code",
   "execution_count": 11,
   "id": "8ae5afa9-ad83-438d-8bc5-ab857cea9025",
   "metadata": {},
   "outputs": [],
   "source": [
    "# Problem 3: Tuple Manipulation\n",
    "# • Write a function named reverse_tuple that accepts a tuple of integers as a parameter.\n",
    "# • Inside the function, create a new tuple with the elements reversed from the input tuple.\n",
    "# • Return the new tuple.\n",
    "# • Test your function by providing different tuples of integers and verifying the output."
   ]
  },
  {
   "cell_type": "code",
   "execution_count": 12,
   "id": "9536f4ca-b2b2-4b5a-bcdc-cd2e4753d906",
   "metadata": {},
   "outputs": [
    {
     "name": "stdout",
     "output_type": "stream",
     "text": [
      "(5, 4, 3, 2, 1)\n",
      "(50, 40, 30, 20, 10)\n",
      "(19, 17, 15, 13, 11)\n"
     ]
    }
   ],
   "source": [
    "# Problem 3: Tuple Manipulation\n",
    "def reverse_tuple(tpl):\n",
    "    tpl = list(tpl)\n",
    "    tpl_length = len(tpl)\n",
    "    list_reverse = list()\n",
    "    for i in range(tpl_length) :\n",
    "        # list_reverse.append(tpl[tpl_length-i-1])\n",
    "        list_reverse.insert(i, tpl[tpl_length-i-1])\n",
    "    return tuple(list_reverse)\n",
    "    \n",
    "# Testing the function\n",
    "tuple1 = (1, 2, 3, 4, 5)\n",
    "tuple2 = (10, 20, 30, 40, 50)\n",
    "tuple3 = (11, 13, 15, 17, 19)\n",
    "print(reverse_tuple(tuple1)) # Output: (5, 4, 3, 2, 1)\n",
    "print(reverse_tuple(tuple2)) # Output: (50, 40, 30, 20, 10)\n",
    "print(reverse_tuple(tuple3)) # Output: (19, 17, 15, 13, 11)"
   ]
  },
  {
   "cell_type": "code",
   "execution_count": 13,
   "id": "d8ac05c2-a019-4c27-9051-8efa62672e9e",
   "metadata": {},
   "outputs": [
    {
     "name": "stdout",
     "output_type": "stream",
     "text": [
      "Sorted array1: [1 2 3 4 5 6]\n",
      "Sorted array2: [10 20 30 40 50]\n",
      "Sorted array3: [11 13 15 17 19]\n"
     ]
    }
   ],
   "source": [
    "# Problem 4: Write a simple bubble sort function, and call it to sort the array and print those arrays. \n",
    "\n",
    "import os \n",
    "import numpy as np \n",
    "\n",
    "def bubble_sort(unsorted_array) : \n",
    "    \n",
    "    unsorted_array = np.array(unsorted_array)\n",
    "    # sorted_array = np.empty(len(unsorted_array))\n",
    "    sorted_array = np.copy(unsorted_array)\n",
    "    n = len(sorted_array)\n",
    "    \n",
    "    # Bubble sort algorithm\n",
    "    for i in range(n):\n",
    "        for j in range(0, n - i - 1):  # Last i elements are already sorted\n",
    "            if sorted_array[j] > sorted_array[j + 1]:  # Compare adjacent elements\n",
    "                # Swap if the current element is greater than the next\n",
    "                sorted_array[j], sorted_array[j + 1] = sorted_array[j + 1], sorted_array[j]\n",
    "    \n",
    "    return sorted_array  # Return the sorted array\n",
    "\n",
    "# Unsorted arrays\n",
    "array1 = [3, 2, 6, 1, 5, 4]\n",
    "array2 = [50, 20, 40, 10, 30]\n",
    "array3 = [15, 11, 19, 13, 17]\n",
    "\n",
    "# Sorting the arrays\n",
    "sorted_array1 = bubble_sort(array1)\n",
    "sorted_array2 = bubble_sort(array2)\n",
    "sorted_array3 = bubble_sort(array3)\n",
    "\n",
    "# Printing the sorted arrays\n",
    "print(\"Sorted array1:\", sorted_array1)  # Output: Sorted array1: [1, 2, 5, 5, 6, 9]\n",
    "print(\"Sorted array2:\", sorted_array2)  # Output: Sorted array2: [0, 3, 4, 7, 8]\n",
    "print(\"Sorted array3:\", sorted_array3)  # Sorted array3: [11, 13, 15, 17, 19]"
   ]
  },
  {
   "cell_type": "code",
   "execution_count": null,
   "id": "e90bbf1c-0e12-4f89-89a5-5a152e08cf62",
   "metadata": {},
   "outputs": [],
   "source": []
  }
 ],
 "metadata": {
  "kernelspec": {
   "display_name": "Python 3 (ipykernel)",
   "language": "python",
   "name": "python3"
  },
  "language_info": {
   "codemirror_mode": {
    "name": "ipython",
    "version": 3
   },
   "file_extension": ".py",
   "mimetype": "text/x-python",
   "name": "python",
   "nbconvert_exporter": "python",
   "pygments_lexer": "ipython3",
   "version": "3.12.4"
  }
 },
 "nbformat": 4,
 "nbformat_minor": 5
}
