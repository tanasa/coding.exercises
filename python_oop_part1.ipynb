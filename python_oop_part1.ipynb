{
 "cells": [
  {
   "cell_type": "code",
   "execution_count": 1,
   "metadata": {},
   "outputs": [],
   "source": [
    "# How to define and use classes (https://www.murach.com/shop/murach-s-python-programming-detail)\n",
    "\n",
    "# chapter 14\n",
    "\n",
    "# UML (Unified Modeling Language) is the industry standard used to describe the classes and objects \n",
    "# of an object-oriented application\n",
    "\n",
    "# Objectives :\n",
    "\n",
    "# Describe the concept of object composition.\n",
    "# Describe the concept of encapsulation.\n",
    "# Distinguish between public and private attributes.\n",
    "# Describe the use of getter and setter methods."
   ]
  },
  {
   "cell_type": "code",
   "execution_count": 2,
   "metadata": {},
   "outputs": [],
   "source": [
    "# In Python, __init__() is a special method known as the initializer or CONSTRUCTOR of a class. \n",
    "\n",
    "# It is automatically invoked when a new instance of the class is created. \n",
    "# The primary purpose of the __init__() method is to initialize the object's attributes \n",
    "# with specific values or perform any setup required for the new instance.\n",
    "\n",
    "# The __init__() method is typically used to set up the initial state of an object \n",
    "# by assigning values to the object's attributes."
   ]
  },
  {
   "cell_type": "code",
   "execution_count": 3,
   "metadata": {},
   "outputs": [],
   "source": [
    "# The double underscores are part of Python's naming conventions for special or \"MAGIC\" methods. \n",
    "# These special methods are used by Python to handle certain object-oriented programming tasks automatically.\n",
    "\n",
    "# These methods are not meant to be directly called by users but are instead invoked automatically by Python \n",
    "# when certain actions are performed on an object."
   ]
  },
  {
   "cell_type": "code",
   "execution_count": 4,
   "metadata": {},
   "outputs": [],
   "source": [
    "# OOP groups VARIABLES and FUNCTIONS into data structures called OBJECTS\n",
    "\n",
    "# a CLASS has :\n",
    "\n",
    "# ATTRIBUTES\n",
    "# METHODS\n",
    "\n",
    "# Once you create an object from a class, the object has :\n",
    "\n",
    "# an IDENTITY (an unique address)\n",
    "# a STATE (the data that it stores)\n",
    "# a BEHAVIOUR (the methods that it contains)\n",
    "\n",
    "# The process of creating an object from a CLASS is called INSTANTIATION.\n",
    "\n",
    "# ENCAPSULATION (data hiding): allows to hide the data attributes of an object from other code that uses the object."
   ]
  },
  {
   "cell_type": "code",
   "execution_count": 5,
   "metadata": {},
   "outputs": [],
   "source": [
    "import sys\n",
    "import os\n",
    "\n",
    "sys.path.append('/home/bogdan/miniconda3/lib/python3.9/site-packages')"
   ]
  },
  {
   "cell_type": "code",
   "execution_count": 6,
   "metadata": {},
   "outputs": [],
   "source": [
    "# from module_name import ClassName1[, ClassName2]...\n",
    "\n",
    "from dataclasses import dataclass\n",
    "import objects\n",
    "\n",
    "# a class called Product :\n",
    "# a class with three attributes and two methods\n",
    "\n",
    "# The dataclass decorator of the data classes module allows you to add attributes to your classes\n",
    "# without having to explicitly code a constructor method.\n",
    "\n",
    "# The methods of a class must take a reference to the object itself as their first parameters \n",
    "# (it is called self).\n",
    "\n",
    "@dataclass # a dataclass decorator\n",
    "\n",
    "class Product:\n",
    "    name:str = \"\"              # attribute 1\n",
    "    price:float = 0.0          # attribute 2\n",
    "    discountPercent:float = 0.0  # attribute 3\n",
    "  \n",
    "    # a method that uses two attributes\n",
    "    def getDiscountAmount(self):\n",
    "        return self.price * self.discountPercent / 100\n",
    "  \n",
    "    # a method that calls another method\n",
    "    def getDiscountPrice(self):\n",
    "        return self.price - self.getDiscountAmount()"
   ]
  },
  {
   "cell_type": "code",
   "execution_count": 7,
   "metadata": {},
   "outputs": [],
   "source": [
    "# to create an object\n",
    "# objectName = ClassName([parameters])"
   ]
  },
  {
   "cell_type": "code",
   "execution_count": 8,
   "metadata": {},
   "outputs": [],
   "source": [
    "# create two product objects\n",
    "\n",
    "product1 = Product(\"Stanley 13 Ounce Wood Hammer\", 12.99, 62)\n",
    "product2 = Product('National Hardware 3/4\" Wire Nails', 5.06, 0)"
   ]
  },
  {
   "cell_type": "code",
   "execution_count": 9,
   "metadata": {},
   "outputs": [
    {
     "name": "stdout",
     "output_type": "stream",
     "text": [
      "PRODUCT DATA\n",
      "Name: Stanley 13 Ounce Wood Hammer\n",
      "Price: 12.99\n",
      "Discount percent: 62%\n",
      "Discount amount: 8.05\n",
      "Discount price: 4.94\n"
     ]
    }
   ],
   "source": [
    "# print data for product1 to console\n",
    "\n",
    "print(\"PRODUCT DATA\")\n",
    "print(f\"Name: {product1.name}\")\n",
    "print(f\"Price: {product1.price:.2f}\")\n",
    "print(f\"Discount percent: {product1.discountPercent:d}%\")\n",
    "print(f\"Discount amount: {product1.getDiscountAmount():.2f}\")\n",
    "print(f\"Discount price: {product1.getDiscountPrice():.2f}\")"
   ]
  },
  {
   "cell_type": "code",
   "execution_count": 10,
   "metadata": {},
   "outputs": [
    {
     "name": "stdout",
     "output_type": "stream",
     "text": [
      "PRODUCT DATA\n",
      "Name: National Hardware 3/4\" Wire Nails\n",
      "Price: 5.06\n",
      "Discount percent: 0%\n",
      "Discount amount: 0.00\n",
      "Discount price: 5.06\n"
     ]
    }
   ],
   "source": [
    "# print data for product2 to console\n",
    "\n",
    "print(\"PRODUCT DATA\")\n",
    "print(f\"Name: {product2.name}\")\n",
    "print(f\"Price: {product2.price:.2f}\")\n",
    "print(f\"Discount percent: {product2.discountPercent:d}%\")\n",
    "print(f\"Discount amount: {product2.getDiscountAmount():.2f}\")\n",
    "print(f\"Discount price: {product2.getDiscountPrice():.2f}\")"
   ]
  },
  {
   "cell_type": "code",
   "execution_count": 11,
   "metadata": {
    "scrolled": true
   },
   "outputs": [
    {
     "name": "stdout",
     "output_type": "stream",
     "text": [
      "40\n"
     ]
    }
   ],
   "source": [
    "# To access the ATTRIBUTES of an object : \n",
    "\n",
    "# objectName.attributeName\n",
    "\n",
    "# SET an attribute :\n",
    "product1.discountPercent = 40\n",
    "\n",
    "# GET an attribute :\n",
    "percent = product1.discountPercent\n",
    "print(percent)"
   ]
  },
  {
   "cell_type": "code",
   "execution_count": 12,
   "metadata": {},
   "outputs": [],
   "source": [
    "# To access the METHODS of an object : \n",
    "\n",
    "# objectName.methodName[(parameters)]"
   ]
  },
  {
   "cell_type": "code",
   "execution_count": 13,
   "metadata": {},
   "outputs": [],
   "source": [
    "# The syntax of a class with attributes\n",
    "\n",
    "# With a dataclass DECORATOR :\n",
    "\n",
    "# @dataclass                           # dataclass decorator\n",
    "# class ClassName:\n",
    "#    attrName1:type [= default_value] # first attribute\n",
    "#    attrName2:type [= default_value] # second attribute\n",
    "# ...\n",
    "\n",
    "# With a CONSTRUCTOR :\n",
    "\n",
    "# class ClassName:\n",
    "#    def __init__(self[, parameters]): # the constructor\n",
    "#        self.attrName1 = attrValue1       # first attribute\n",
    "#        self.attrName2 = attrValue2       # second attribute\n",
    "        \n",
    "# Like any other method, an __init__() or __post_init__() method must take a reference to\n",
    "# the object itself as its first parameters. This reference is called SELF."
   ]
  },
  {
   "cell_type": "code",
   "execution_count": 14,
   "metadata": {},
   "outputs": [],
   "source": [
    "# An example by using __init__ : a class that has three attributes\n",
    "\n",
    "class Product:\n",
    "    def __init__(self, name = \"\", price = 0.0, discount_percent = 0):\n",
    "        self.name = name\n",
    "        self.price = price\n",
    "        self.discountPercent = discount_percent\n",
    "\n",
    "    def getDiscountAmount(self):\n",
    "        \n",
    "        discountAmount = self.price * self.discountPercent / 100\n",
    "        return discountAmount\n",
    "    \n",
    "    def getDiscountPrice(self):\n",
    "        return self.price - self.getDiscountAmount()\n",
    "    \n",
    "\n",
    "# discountAmount = product.getDiscountAmount()\n",
    "# discountPrice = product.getDiscountPrice()"
   ]
  },
  {
   "cell_type": "code",
   "execution_count": 15,
   "metadata": {},
   "outputs": [
    {
     "name": "stdout",
     "output_type": "stream",
     "text": [
      "The Product Viewer program\n",
      "\n",
      "PRODUCTS\n",
      "1. Stanley 13 Ounce Wood Hammer\n",
      "2. National Hardware 3/4\" Wire Nails\n",
      "3. Economy Duct Tape, 60 yds, Silver\n",
      "\n",
      "Enter product number: 1\n",
      "Name:             Stanley 13 Ounce Wood Hammer\n",
      "Price:            12.99\n",
      "Discount percent: 62%\n",
      "Discount amount:  8.05\n",
      "Discount price:   4.94\n",
      "\n",
      "View another product? (y/n): n\n",
      "\n",
      "Bye!\n"
     ]
    }
   ],
   "source": [
    "# more functions : \n",
    "\n",
    "def show_products(products):\n",
    "    print(\"PRODUCTS\")\n",
    "    for i, product in enumerate(products, start=1):\n",
    "        print(f\"{i}. {product.name}\")\n",
    "    print()\n",
    "    \n",
    "def show_product(product):\n",
    "    w = 18\n",
    "    print(f\"{'Name:':{w}}{product.name}\")\n",
    "    print(f\"{'Price:':{w}}{product.price:.2f}\")\n",
    "    print(f\"{'Discount percent:':{w}}{product.discountPercent:d}%\")\n",
    "    print(f\"{'Discount amount:':{w}}{product.getDiscountAmount():.2f}\")\n",
    "    print(f\"{'Discount price:':{w}}{product.getDiscountPrice():.2f}\")\n",
    "    print()\n",
    "    \n",
    "def get_products():\n",
    "    # return a tuple of Product objects\n",
    "    return (Product(\"Stanley 13 Ounce Wood Hammer\", 12.99, 62),\n",
    "            Product('National Hardware 3/4\" Wire Nails', 5.06, 0),\n",
    "            Product(\"Economy Duct Tape, 60 yds, Silver\", 7.24, 0))\n",
    "\n",
    "def get_product(products):\n",
    "    while True:\n",
    "        try:\n",
    "            number = int(input(\"Enter product number: \"))\n",
    "            if number < 1 or number > len(products):\n",
    "                print(\"Product number out of range. Please try again.\")\n",
    "            else:\n",
    "                return products[number-1]\n",
    "        except ValueError:\n",
    "                print(\"Invalid number. Please try again.\")\n",
    "        print()\n",
    "                      \n",
    "                      \n",
    "def main():\n",
    "    print(\"The Product Viewer program\")\n",
    "    print()\n",
    "\n",
    "    products = get_products()\n",
    "    show_products(products)\n",
    "    choice = \"y\"\n",
    "\n",
    "    while choice.lower() == \"y\":\n",
    "          product = get_product(products)\n",
    "          show_product(product)\n",
    "          \n",
    "          choice = input(\"View another product? (y/n): \")\n",
    "          print()\n",
    "\n",
    "    print(\"Bye!\")\n",
    "                      \n",
    "if __name__ == \"__main__\":\n",
    "   main()"
   ]
  },
  {
   "cell_type": "code",
   "execution_count": 16,
   "metadata": {},
   "outputs": [
    {
     "name": "stdout",
     "output_type": "stream",
     "text": [
      "The Dice Roller program\n",
      "\n",
      "Enter the number of dice to roll: 2\n",
      "YOUR ROLL: 4 \n",
      "\n",
      "Roll again? (y/n): n\n",
      "Bye!\n",
      "YOUR ROLL: 4 2 \n",
      "\n",
      "Roll again? (y/n): n\n",
      "Bye!\n"
     ]
    }
   ],
   "source": [
    "# OBJECT COMPOSITION :\n",
    "\n",
    "# it is a way to combine SIMPLE objects into COMPLEX objects.\n",
    "# for example, a DICE object may contain multiple DIE object.\n",
    "\n",
    "import random\n",
    "from dataclasses import dataclass\n",
    "\n",
    "@dataclass\n",
    "class Die:\n",
    "     value:int = 1\n",
    "    \n",
    "     def roll(self):\n",
    "        self.value = random.randrange(1, 7)\n",
    "\n",
    "class Dice:\n",
    "        # explicit constructor\n",
    "        def __init__(self):\n",
    "            self.list = []\n",
    "\n",
    "        def addDie(self, die):\n",
    "            self.list.append(die)\n",
    "\n",
    "        def rollAll(self):\n",
    "            for die in self.list:\n",
    "                die.roll()\n",
    "                \n",
    "\n",
    "def main():\n",
    "    print(\"The Dice Roller program\")\n",
    "    print()\n",
    "    \n",
    "    # get number of dice from user\n",
    "    count = int(input(\"Enter the number of dice to roll: \"))\n",
    "\n",
    "    # create Dice object and add Die objects to it\n",
    "    dice = Dice()\n",
    "    \n",
    "    for i in range(count):\n",
    "        die = Die()\n",
    "        dice.addDie(die)\n",
    "        \n",
    "        choice = \"y\"\n",
    "\n",
    "        while choice.lower() == \"y\":\n",
    "              # roll the dice\n",
    "              dice.rollAll()\n",
    "\n",
    "              # display to the user\n",
    "              print(\"YOUR ROLL: \", end=\"\")\n",
    "\n",
    "              for die in dice.list:\n",
    "                   print(die.value, end=\" \")\n",
    "              print(\"\\n\")\n",
    "            \n",
    "              choice = input(\"Roll again? (y/n): \")\n",
    "\n",
    "        print(\"Bye!\")\n",
    "            \n",
    "if __name__ == \"__main__\":\n",
    "     main()"
   ]
  },
  {
   "cell_type": "code",
   "execution_count": 18,
   "metadata": {},
   "outputs": [
    {
     "name": "stdout",
     "output_type": "stream",
     "text": [
      "1\n",
      "[Die(value=1), Die(value=1), Die(value=1), Die(value=1), Die(value=4)]\n"
     ]
    }
   ],
   "source": [
    "# get the number of dice from the user\n",
    "# count = int(input(\"Enter the number of dice to roll: \"))\n",
    "\n",
    "count = 5\n",
    "\n",
    "dice = Dice()\n",
    "for i in range(count):\n",
    "    die = Die()\n",
    "    dice.addDie(die)\n",
    "    \n",
    "print(die.value)\n",
    "die.roll()\n",
    "\n",
    "print(dice.list)\n",
    "dice.rollAll()"
   ]
  },
  {
   "cell_type": "code",
   "execution_count": 19,
   "metadata": {},
   "outputs": [],
   "source": [
    "# ENCAPSULATION (data hiding)"
   ]
  },
  {
   "cell_type": "code",
   "execution_count": 20,
   "metadata": {},
   "outputs": [],
   "source": [
    "# PUBLIC METHODS\n",
    "# PRIVATE METHODS : these can be accessed indirectly through public methods / INTERFACES"
   ]
  },
  {
   "cell_type": "code",
   "execution_count": 21,
   "metadata": {},
   "outputs": [],
   "source": [
    "# for example : for the class Die described above :\n",
    "\n",
    "# __value : a PRIVATE ATTRIBUTE\n",
    "# getValue() : PUBLIC METHOD to get the ATTRIBUTE\n",
    "# setValue() : PUBLIC METHOD to set the ATTRIBUTE\n",
    "# roll()  : a PUBLIC METHOD\n",
    "\n",
    "# The double underscores (__) identify the attributes that are private."
   ]
  },
  {
   "cell_type": "code",
   "execution_count": 22,
   "metadata": {},
   "outputs": [
    {
     "name": "stdout",
     "output_type": "stream",
     "text": [
      "Die: 7\n"
     ]
    }
   ],
   "source": [
    "# The Die class with a PUBLIC ATTRIBUTE named value\n",
    "\n",
    "@dataclass\n",
    "class Die:\n",
    "    value:int = 1\n",
    "    \n",
    "    def roll(self):\n",
    "        self.value = random.randrange(1, 7)\n",
    "        return self.value\n",
    "\n",
    "# Code that directly SETS and GETS the public attribute\n",
    "\n",
    "die = Die()\n",
    "die.value = 7 \n",
    "print(\"Die:\", die.value)"
   ]
  },
  {
   "cell_type": "code",
   "execution_count": 23,
   "metadata": {},
   "outputs": [
    {
     "name": "stdout",
     "output_type": "stream",
     "text": [
      "Die: 1\n"
     ]
    }
   ],
   "source": [
    "# The Die class with a PRIVATE ATTRIBUTE named __value\n",
    "\n",
    "@dataclass\n",
    "class Die:\n",
    "    __value:int = 1\n",
    "\n",
    "    def getValue(self):\n",
    "        return self.__value\n",
    "\n",
    "    def roll(self):\n",
    "        self.__value = random.randrange(1, 7)\n",
    "\n",
    "# Code that attempts to directly set a private attribute\n",
    "\n",
    "die = Die()\n",
    "die.__value = 6\n",
    "print(\"Die:\", die.getValue())"
   ]
  },
  {
   "cell_type": "code",
   "execution_count": 24,
   "metadata": {},
   "outputs": [],
   "source": [
    "# The Die class with methods that access a PRIVATE ATTRIBUTE :\n",
    "# getValue\n",
    "# setValue\n",
    "\n",
    "@dataclass\n",
    "class Die:\n",
    "    __value:int = 1\n",
    "\n",
    "    def getValue(self):\n",
    "        return self.__value\n",
    "\n",
    "    def setValue(self, value):\n",
    "        if value < 1 or value > 6:\n",
    "            raise ValueError(\"Die value must be from 1 to 6.\")\n",
    "        else:\n",
    "            self.__value = value\n",
    "\n",
    "    def roll(self):\n",
    "        self.__value = random.randrange(1, 7)"
   ]
  },
  {
   "cell_type": "code",
   "execution_count": 25,
   "metadata": {},
   "outputs": [
    {
     "name": "stdout",
     "output_type": "stream",
     "text": [
      "Die: 6\n"
     ]
    }
   ],
   "source": [
    "# GETTER method : gets the value of an attribute (ACCESSOR)\n",
    "# SETTER method : sets the value of an attribute (MUTATOR)\n",
    "\n",
    "die = Die()\n",
    "die.setValue(6)\n",
    "print(\"Die:\", die.getValue())\n",
    "\n",
    "# using invalid data : \n",
    "# die = Die()\n",
    "# die.setValue(-1)"
   ]
  },
  {
   "cell_type": "code",
   "execution_count": 26,
   "metadata": {},
   "outputs": [],
   "source": [
    "# A PROPERTY : a type of method that is used to GET and SET a PRIVATE ATTRIBUTE\n",
    "\n",
    "# @property : the getter method for the property\n",
    "# @propertyName.setter : the setter method for the specified property"
   ]
  },
  {
   "cell_type": "code",
   "execution_count": 28,
   "metadata": {},
   "outputs": [
    {
     "ename": "IndentationError",
     "evalue": "unindent does not match any outer indentation level (<tokenize>, line 7)",
     "output_type": "error",
     "traceback": [
      "\u001b[0;36m  File \u001b[0;32m\"<tokenize>\"\u001b[0;36m, line \u001b[0;32m7\u001b[0m\n\u001b[0;31m    @property\u001b[0m\n\u001b[0m    ^\u001b[0m\n\u001b[0;31mIndentationError\u001b[0m\u001b[0;31m:\u001b[0m unindent does not match any outer indentation level\n"
     ]
    }
   ],
   "source": [
    "# A Die class that uses a property to access a private attribute\n",
    "\n",
    "@dataclass\n",
    "class Die:\n",
    "     __value:int = 1\n",
    "\n",
    "    @property\n",
    "    def value(self):\n",
    "        return self.__value\n",
    "\n",
    "    @value.setter\n",
    "    def value(self, value):\n",
    "        if value < 1 or value > 6:\n",
    "            raise ValueError(\"Die value must be from 1 to 6.\")\n",
    "    else:\n",
    "        self.__value = value"
   ]
  },
  {
   "cell_type": "code",
   "execution_count": 29,
   "metadata": {},
   "outputs": [
    {
     "name": "stdout",
     "output_type": "stream",
     "text": [
      "Die: 6\n"
     ]
    }
   ],
   "source": [
    "die = Die()\n",
    "die.value = 6\n",
    "print(\"Die:\", die.value)\n",
    "\n",
    "# die = Die()\n",
    "# die.value = -1"
   ]
  },
  {
   "cell_type": "code",
   "execution_count": 30,
   "metadata": {},
   "outputs": [],
   "source": [
    "# If we only code a GETTER, we create a READ-ONLY property ; \n",
    "# if we only code a SETTER, we create a WRITE-ONLY property."
   ]
  },
  {
   "cell_type": "code",
   "execution_count": 31,
   "metadata": {},
   "outputs": [],
   "source": [
    "import random\n",
    "from dataclasses import dataclass\n",
    "@dataclass\n",
    "class Die:\n",
    "     __value:int = 1\n",
    "\n",
    "     @property # read-only\n",
    "     def value(self):\n",
    "         return self.__value\n",
    "\n",
    "     def roll(self):\n",
    "         self.__value = random.randrange(1, 7)"
   ]
  },
  {
   "cell_type": "code",
   "execution_count": 32,
   "metadata": {},
   "outputs": [],
   "source": [
    "class Dice:\n",
    "    def __init__(self):\n",
    "        self.__list = []\n",
    "\n",
    "    @property # read-only\n",
    "    def list(self):\n",
    "        return tuple(self.__list)\n",
    "\n",
    "    def addDie(self, die):\n",
    "        self.__list.append(die)\n",
    "\n",
    "    def rollAll(self):\n",
    "        for die in self.__list:\n",
    "            die.roll()\n",
    "            \n"
   ]
  },
  {
   "cell_type": "code",
   "execution_count": 33,
   "metadata": {},
   "outputs": [],
   "source": [
    "# The __post_init__() method in Python is a special method used in conjunction with the @dataclass decorator \n",
    "# from the dataclasses module.\n",
    "# ● It is called after the __init__() method has been executed and all the fields of the dataclass \n",
    "# have been initialized.\n",
    "# ● The primary purpose of __post_init__() is to perform additional initialization or validation tasks \n",
    "# that depend on the values of the dataclass fields."
   ]
  }
 ],
 "metadata": {
  "kernelspec": {
   "display_name": "Python 3",
   "language": "python",
   "name": "python3"
  },
  "language_info": {
   "codemirror_mode": {
    "name": "ipython",
    "version": 3
   },
   "file_extension": ".py",
   "mimetype": "text/x-python",
   "name": "python",
   "nbconvert_exporter": "python",
   "pygments_lexer": "ipython3",
   "version": "3.8.10"
  }
 },
 "nbformat": 4,
 "nbformat_minor": 4
}
