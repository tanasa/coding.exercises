{
 "cells": [
  {
   "cell_type": "code",
   "execution_count": 1,
   "metadata": {},
   "outputs": [],
   "source": [
    "# DICTIONARIES"
   ]
  },
  {
   "cell_type": "code",
   "execution_count": 2,
   "metadata": {
    "scrolled": true
   },
   "outputs": [
    {
     "name": "stdout",
     "output_type": "stream",
     "text": [
      "{'song': 'Estranged', 'artist': \"Guns N' Roses\"}\n",
      "Estranged\n",
      "{'song': 'Paradise City', 'artist': \"Guns N' Roses\"}\n",
      "Paradise City\n"
     ]
    }
   ],
   "source": [
    "my_dictionary = {\"song\": \"Estranged\", \n",
    "                 \"artist\": \"Guns N' Roses\"}\n",
    "\n",
    "print(my_dictionary)\n",
    "print(my_dictionary[\"song\"])\n",
    "\n",
    "my_dictionary[\"song\"] = \"Paradise City\"\n",
    "\n",
    "print(my_dictionary)\n",
    "print(my_dictionary[\"song\"])"
   ]
  },
  {
   "cell_type": "code",
   "execution_count": 3,
   "metadata": {},
   "outputs": [
    {
     "name": "stdout",
     "output_type": "stream",
     "text": [
      "{'color': 'red', 'shape': 'circle', 'number': 42}\n"
     ]
    }
   ],
   "source": [
    "# Are dictionaries ordered : yes, starting with Python 3.7, the built-in dict type maintains insertion order.\n",
    "\n",
    "# Merging dictionaries with the .update() \n",
    "\n",
    "dict1 = {'color': 'blue', 'shape': 'circle'}\n",
    "dict2 = {'color': 'red', 'number': 42}\n",
    "\n",
    "dict1.update(dict2)\n",
    "print(dict1)"
   ]
  },
  {
   "cell_type": "code",
   "execution_count": 4,
   "metadata": {},
   "outputs": [
    {
     "name": "stdout",
     "output_type": "stream",
     "text": [
      "dict_keys(['color', 'shape', 'number'])\n"
     ]
    }
   ],
   "source": [
    "print(dict1.keys())"
   ]
  },
  {
   "cell_type": "code",
   "execution_count": 5,
   "metadata": {},
   "outputs": [
    {
     "name": "stdout",
     "output_type": "stream",
     "text": [
      "dict_values(['red', 'circle', 42])\n"
     ]
    }
   ],
   "source": [
    "print(dict1.values())"
   ]
  },
  {
   "cell_type": "code",
   "execution_count": 6,
   "metadata": {},
   "outputs": [
    {
     "name": "stdout",
     "output_type": "stream",
     "text": [
      "dict_items([('color', 'red'), ('shape', 'circle'), ('number', 42)])\n"
     ]
    }
   ],
   "source": [
    "print(dict1.items())"
   ]
  },
  {
   "cell_type": "code",
   "execution_count": 7,
   "metadata": {
    "scrolled": true
   },
   "outputs": [
    {
     "name": "stdout",
     "output_type": "stream",
     "text": [
      "red\n",
      "circle\n"
     ]
    }
   ],
   "source": [
    "print(dict1[\"color\"])\n",
    "print(dict1[\"shape\"])"
   ]
  },
  {
   "cell_type": "code",
   "execution_count": 8,
   "metadata": {},
   "outputs": [
    {
     "data": {
      "text/plain": [
       "'circle'"
      ]
     },
     "execution_count": 8,
     "metadata": {},
     "output_type": "execute_result"
    }
   ],
   "source": [
    "# GET\n",
    "# a .get() method to access a dictionary value if it exists.\n",
    "\n",
    "dict1.get(\"color\")\n",
    "dict1.get(\"shape\")"
   ]
  },
  {
   "cell_type": "code",
   "execution_count": 9,
   "metadata": {
    "scrolled": true
   },
   "outputs": [
    {
     "name": "stdout",
     "output_type": "stream",
     "text": [
      "{'dress': 'multi', 'jacket': 'pink', 'shoes': 'black', 'slacks': 'black', 'blouse': 'white'}\n",
      "{'slacks': 'black', 'blouse': 'red', 'shoes': 'black', 'purse': 'red'}\n"
     ]
    }
   ],
   "source": [
    "# Merging the dictionaries\n",
    "# UPDATE()\n",
    "\n",
    "cart1 = {\"dress\": \"multi\", \"jacket\": \"pink\", \"shoes\": \"white\"}\n",
    "cart2 = {\"slacks\": \"black\", \"blouse\": \"white\", \"shoes\": \"black\"}\n",
    "\n",
    "# Using update() to combine dictionaries\n",
    "\n",
    "cart3 = cart1.copy()  # Create a copy of cart1\n",
    "cart3.update(cart2)   # Update the copy with cart2\n",
    "print(cart3)\n",
    "\n",
    "cart4 = {\"blouse\": \"red\", \"purse\": \"red\"}\n",
    "cart5 = cart2.copy()\n",
    "cart5.update(cart4)\n",
    "print(cart5)"
   ]
  },
  {
   "cell_type": "code",
   "execution_count": null,
   "metadata": {},
   "outputs": [],
   "source": []
  },
  {
   "cell_type": "code",
   "execution_count": 10,
   "metadata": {},
   "outputs": [],
   "source": [
    "# VIEW OBJECT :\n",
    "\n",
    "# In Python, a view object is an object that provides a dynamic view on the underlying data of a dictionary \n",
    "# or similar collection. Instead of copying the data, it gives you a real-time view, \n",
    "# meaning if the dictionary (or collection) changes, the view object reflects those changes automatically."
   ]
  },
  {
   "cell_type": "code",
   "execution_count": null,
   "metadata": {},
   "outputs": [],
   "source": []
  },
  {
   "cell_type": "code",
   "execution_count": 11,
   "metadata": {
    "scrolled": true
   },
   "outputs": [
    {
     "name": "stdout",
     "output_type": "stream",
     "text": [
      "{'color': 'red'}\n"
     ]
    }
   ],
   "source": [
    "# Removing key-value pairs with the .pop() method. \n",
    "# .pop() Method for Dictionaries \n",
    "\n",
    "# .pop() takes a key as an argument and removes it from the dictionary. \n",
    "# At the same time, it also returns the value that it removes from the dictionary.\n",
    "\n",
    "dict2.pop(\"number\")\n",
    "print(dict2)"
   ]
  },
  {
   "cell_type": "code",
   "execution_count": 12,
   "metadata": {},
   "outputs": [
    {
     "name": "stdout",
     "output_type": "stream",
     "text": [
      "Key not found\n",
      "Key not found\n"
     ]
    }
   ],
   "source": [
    "# To avoid a KeyError when using the pop() method of a dictionary, you can use one of the following approaches:\n",
    "\n",
    "# Use the pop() Method with a Default Value\n",
    "# The pop() method allows you to specify a default value that will be returned \n",
    "# if the key does not exist in the dictionary. This prevents a KeyError.\n",
    "\n",
    "my_dict = {'a': 1, 'b': 2}\n",
    "\n",
    "# 1\n",
    "# Using pop() with a default value\n",
    "value = my_dict.pop('c', 'Key not found')  # Returns 'Key not found' if 'c' doesn't exist\n",
    "print(value)\n",
    "\n",
    "# 2\n",
    "# Check for the Key Before Popping\n",
    "my_dict = {'a': 1, 'b': 2}\n",
    "\n",
    "if 'c' in my_dict:\n",
    "    value = my_dict.pop('c')\n",
    "else:\n",
    "    value = 'Key not found'\n",
    "print(value)  # Output: Key not found"
   ]
  },
  {
   "cell_type": "code",
   "execution_count": 13,
   "metadata": {},
   "outputs": [
    {
     "name": "stdout",
     "output_type": "stream",
     "text": [
      "Colors of flowers: blue red white yellow \n"
     ]
    }
   ],
   "source": [
    "flowers = {\"white\": \"lily\",\n",
    "               \"red\": \"rose\",\n",
    "               \"blue\": \"carnation\",\n",
    "               \"yellow\": \"buttercup\"}\n",
    "\n",
    "colors = list(flowers.keys())\n",
    "colors.sort()\n",
    "show_colors = \"Colors of flowers: \"\n",
    "for color in colors:\n",
    "      show_colors += color + \" \"\n",
    "print(show_colors)"
   ]
  },
  {
   "cell_type": "code",
   "execution_count": null,
   "metadata": {},
   "outputs": [],
   "source": []
  },
  {
   "cell_type": "code",
   "execution_count": 14,
   "metadata": {},
   "outputs": [],
   "source": [
    "# Another example of dictionary :"
   ]
  },
  {
   "cell_type": "code",
   "execution_count": 15,
   "metadata": {},
   "outputs": [
    {
     "name": "stdout",
     "output_type": "stream",
     "text": [
      "{'Colorado': 'Rockies', 'Boston': 'Red Sox', 'Minnesota': 'Twins', 'Milwaukee': 'Brewers', 'Seattle': 'Mariners'}\n"
     ]
    }
   ],
   "source": [
    ">>> MLB_team1 = {\n",
    "...     'Colorado' : 'Rockies',\n",
    "...     'Boston'   : 'Red Sox',\n",
    "...     'Minnesota': 'Twins',\n",
    "...     'Milwaukee': 'Brewers',\n",
    "...     'Seattle'  : 'Mariners'\n",
    "... }\n",
    "\n",
    "print(MLB_team1)"
   ]
  },
  {
   "cell_type": "code",
   "execution_count": 16,
   "metadata": {},
   "outputs": [
    {
     "name": "stdout",
     "output_type": "stream",
     "text": [
      "{'Colorado': 'Rockies', 'Boston': 'Red Sox', 'Minnesota': 'Twins', 'Milwaukee': 'Brewers', 'Seattle': 'Mariners'}\n"
     ]
    }
   ],
   "source": [
    ">>> MLB_team2 = dict([\n",
    "...     ('Colorado', 'Rockies'),\n",
    "...     ('Boston', 'Red Sox'),\n",
    "...     ('Minnesota', 'Twins'),\n",
    "...     ('Milwaukee', 'Brewers'),\n",
    "...     ('Seattle', 'Mariners')\n",
    "... ])\n",
    "\n",
    "print(MLB_team2)"
   ]
  },
  {
   "cell_type": "code",
   "execution_count": 17,
   "metadata": {},
   "outputs": [
    {
     "name": "stdout",
     "output_type": "stream",
     "text": [
      "{'Colorado': 'Rockies', 'Boston': 'Red Sox', 'Minnesota': 'Twins', 'Milwaukee': 'Brewers', 'Seattle': 'Mariners'}\n"
     ]
    }
   ],
   "source": [
    ">>> MLB_team3 = dict(\n",
    "...     Colorado='Rockies',\n",
    "...     Boston='Red Sox',\n",
    "...     Minnesota='Twins',\n",
    "...     Milwaukee='Brewers',\n",
    "...     Seattle='Mariners'\n",
    "... )\n",
    "\n",
    "print(MLB_team3)"
   ]
  },
  {
   "cell_type": "code",
   "execution_count": 18,
   "metadata": {},
   "outputs": [],
   "source": [
    "# The entries in the dictionary display in the order they were defined. \n",
    "# But that is irrelevant when it comes to retrieving them. \n",
    "# Dictionary elements are not accessed by numerical index."
   ]
  },
  {
   "cell_type": "code",
   "execution_count": 19,
   "metadata": {},
   "outputs": [
    {
     "data": {
      "text/plain": [
       "'Rockies'"
      ]
     },
     "execution_count": 19,
     "metadata": {},
     "output_type": "execute_result"
    }
   ],
   "source": [
    ">>> MLB_team1['Minnesota']\n",
    "'Twins'\n",
    ">>> MLB_team1['Colorado']\n",
    "'Rockies'"
   ]
  },
  {
   "cell_type": "code",
   "execution_count": 20,
   "metadata": {},
   "outputs": [
    {
     "data": {
      "text/plain": [
       "{0: 'a', 1: 'b', 2: 'c', 3: 'd'}"
      ]
     },
     "execution_count": 20,
     "metadata": {},
     "output_type": "execute_result"
    }
   ],
   "source": [
    "# An object of any immutable type can be used as a dictionary key. \n",
    "# Accordingly, there is no reason you can’t use integers:\n",
    "\n",
    "d = {0: 'a', 1: 'b', 2: 'c', 3: 'd'}\n",
    "d"
   ]
  },
  {
   "cell_type": "code",
   "execution_count": 21,
   "metadata": {},
   "outputs": [
    {
     "data": {
      "text/plain": [
       "'c'"
      ]
     },
     "execution_count": 21,
     "metadata": {},
     "output_type": "execute_result"
    }
   ],
   "source": [
    "# A tuple can also be a dictionary key, because tuples are immutable.\n",
    "\n",
    "d = {(1, 1): 'a', (1, 2): 'b', (2, 1): 'c', (2, 2): 'd'}\n",
    "d[(1,1)]\n",
    "d[(2,1)]"
   ]
  },
  {
   "cell_type": "code",
   "execution_count": 22,
   "metadata": {},
   "outputs": [
    {
     "data": {
      "text/plain": [
       "True"
      ]
     },
     "execution_count": 22,
     "metadata": {},
     "output_type": "execute_result"
    }
   ],
   "source": [
    "'Milwaukee' in MLB_team1"
   ]
  },
  {
   "cell_type": "code",
   "execution_count": null,
   "metadata": {},
   "outputs": [],
   "source": []
  },
  {
   "cell_type": "code",
   "execution_count": 23,
   "metadata": {},
   "outputs": [],
   "source": [
    "# Methods that apply to dictionaries\n",
    "\n",
    "# d.clear()\n",
    "# d.get(<key>)\n",
    "# d.items()\n",
    "\n",
    "# Nested dictionaries"
   ]
  },
  {
   "cell_type": "code",
   "execution_count": null,
   "metadata": {},
   "outputs": [],
   "source": []
  },
  {
   "cell_type": "code",
   "execution_count": 24,
   "metadata": {},
   "outputs": [],
   "source": [
    "# STRINGS"
   ]
  },
  {
   "cell_type": "code",
   "execution_count": 25,
   "metadata": {},
   "outputs": [],
   "source": [
    "# Strings in Python are arrays of bytes representing unicode characters.\n",
    "# Python does not have a character data type, a single character is simply a string with a length of 1."
   ]
  },
  {
   "cell_type": "code",
   "execution_count": 26,
   "metadata": {},
   "outputs": [
    {
     "name": "stdout",
     "output_type": "stream",
     "text": [
      "H\n",
      "e\n"
     ]
    }
   ],
   "source": [
    "# To access elements of the string.\n",
    "\n",
    "a = \"Hello, World!\"\n",
    "print(a[0])\n",
    "print(a[1])"
   ]
  },
  {
   "cell_type": "code",
   "execution_count": 27,
   "metadata": {},
   "outputs": [
    {
     "name": "stdout",
     "output_type": "stream",
     "text": [
      "b\n",
      "a\n",
      "n\n",
      "a\n",
      "n\n",
      "a\n"
     ]
    }
   ],
   "source": [
    "# Looping Through a String\n",
    "# Since strings are arrays, we can loop through the characters in a string, with a for loop.\n",
    "\n",
    "for x in \"banana\":\n",
    "  print(x)"
   ]
  },
  {
   "cell_type": "code",
   "execution_count": 28,
   "metadata": {},
   "outputs": [
    {
     "name": "stdout",
     "output_type": "stream",
     "text": [
      "Yes, 'free' is present.\n"
     ]
    }
   ],
   "source": [
    "# Checking a String\n",
    "\n",
    "String1 = \"The best things in life are free!\"\n",
    "if \"free\" in String1:\n",
    "  print(\"Yes, 'free' is present.\")"
   ]
  },
  {
   "cell_type": "code",
   "execution_count": 29,
   "metadata": {},
   "outputs": [
    {
     "name": "stdout",
     "output_type": "stream",
     "text": [
      "\n",
      "Slicing characters from 2-12: \n",
      "he best thi\n"
     ]
    }
   ],
   "source": [
    "# String Slicing\n",
    "\n",
    "# Printing 3rd to 12th character\n",
    "print(\"\\nSlicing characters from 2-12: \")\n",
    "print(String1[1:12])"
   ]
  },
  {
   "cell_type": "code",
   "execution_count": 30,
   "metadata": {},
   "outputs": [
    {
     "name": "stdout",
     "output_type": "stream",
     "text": [
      "skeegrofskeeg yeh\n"
     ]
    }
   ],
   "source": [
    "# String Reversing\n",
    "\n",
    "gfg = \"hey geeksforgeeks\"\n",
    "gfg = \"\".join(reversed(gfg))\n",
    "print(gfg)"
   ]
  },
  {
   "cell_type": "code",
   "execution_count": 31,
   "metadata": {},
   "outputs": [
    {
     "name": "stdout",
     "output_type": "stream",
     "text": [
      "\n",
      "Updating character at 2nd Index: \n",
      "Heplo, I'm a Geek\n",
      "Heplo, I'm a Geek\n"
     ]
    }
   ],
   "source": [
    "# Updating a character of the String\n",
    "\n",
    "String1 = \"Hello, I'm a Geek\"\n",
    "\n",
    "## As python strings are immutable, they don't support item updation directly\n",
    "\n",
    "### there are following two ways :\n",
    "\n",
    "# 1\n",
    "list1 = list(String1)\n",
    "list1[2] = 'p'\n",
    "String2 = ''.join(list1)\n",
    "print(\"\\nUpdating character at 2nd Index: \")\n",
    "print(String2)\n",
    "\n",
    "# 2\n",
    "String3 = String1[0:2] + 'p' + String1[3:]\n",
    "print(String3)"
   ]
  },
  {
   "cell_type": "code",
   "execution_count": 32,
   "metadata": {},
   "outputs": [
    {
     "name": "stdout",
     "output_type": "stream",
     "text": [
      "Helo, World!\n",
      "Heo, Word!\n"
     ]
    }
   ],
   "source": [
    "# Deleting a character in a String\n",
    "\n",
    "# Since strings in Python are immutable, you can't delete characters directly from them. \n",
    "# However, you can create a new string by excluding the characters you want to remove. \n",
    "\n",
    "# Here are several methods you can use to \"delete\" characters from a string:\n",
    "\n",
    "# 1. Using Slicing\n",
    "# You can remove a character at a specific index by slicing and joining the parts of the string \n",
    "# before and after the character:\n",
    "\n",
    "string1 = \"Hello, World!\"\n",
    "new_string = string1[:2] + string1[3:]\n",
    "print(new_string)  \n",
    "\n",
    "# 2. Using replace() method\n",
    "# If you want to remove all occurrences of a specific character, you can use replace():\n",
    "\n",
    "string2 = \"Hello, World!\"\n",
    "# Remove all 'l' characters\n",
    "new_string2 = string2.replace('l', '')\n",
    "print(new_string2)  "
   ]
  },
  {
   "cell_type": "code",
   "execution_count": 33,
   "metadata": {},
   "outputs": [
    {
     "name": "stdout",
     "output_type": "stream",
     "text": [
      "hella warld\n"
     ]
    }
   ],
   "source": [
    "# REPLACE()\n",
    "\n",
    "original_string = \"hello world\"\n",
    "new_string = original_string.replace(\"o\", \"a\")\n",
    "\n",
    "print(new_string)  # Output: \"hella warld\""
   ]
  },
  {
   "cell_type": "code",
   "execution_count": 34,
   "metadata": {},
   "outputs": [],
   "source": [
    "# To replace a character in a string in python at a specific position, there are two methods :"
   ]
  },
  {
   "cell_type": "code",
   "execution_count": 35,
   "metadata": {},
   "outputs": [
    {
     "name": "stdout",
     "output_type": "stream",
     "text": [
      "hallo\n"
     ]
    }
   ],
   "source": [
    "# Method 1: Using String Slicing\n",
    "\n",
    "# Slice the string into parts: before the character you want to replace and after it.\n",
    "# Concatenate the parts with the new character.\n",
    "\n",
    "original_string = \"hello\"\n",
    "position = 1      # Position to replace (0-indexed)\n",
    "new_char = 'a'   # New character to insert\n",
    "\n",
    "# Replace the character at the specified position\n",
    "new_string = original_string[:position] + new_char + original_string[position + 1:]\n",
    "\n",
    "print(new_string)  # Output: \"hallo\""
   ]
  },
  {
   "cell_type": "code",
   "execution_count": 36,
   "metadata": {},
   "outputs": [
    {
     "name": "stdout",
     "output_type": "stream",
     "text": [
      "hallo\n"
     ]
    }
   ],
   "source": [
    "# Method 2: Using a List\n",
    "\n",
    "# We can also convert the string to a list, replace the character, and then join it back to a string.\n",
    "\n",
    "original_string = \"hello\"\n",
    "position = 1      # Position to replace (0-indexed)\n",
    "new_char = 'a'   # New character to insert\n",
    "\n",
    "# Convert to a list to allow modification\n",
    "string_list = list(original_string)\n",
    "string_list[position] = new_char  # Replace the character at the specified position\n",
    "\n",
    "# Join the list back into a string\n",
    "new_string = ''.join(string_list)\n",
    "\n",
    "print(new_string)  # Output: \"hallo\""
   ]
  },
  {
   "cell_type": "code",
   "execution_count": 37,
   "metadata": {},
   "outputs": [
    {
     "name": "stdout",
     "output_type": "stream",
     "text": [
      "Hella, World!\n",
      "hella, world\n"
     ]
    }
   ],
   "source": [
    "# To replace the first occurrence of a character in a string in Python, you can use the str.replace() method \n",
    "# with an additional argument that specifies the number of occurrences to replace.\n",
    "\n",
    "string = \"Hello, World!\"\n",
    "\n",
    "# Replace the first occurrence of 'o' with 'a'\n",
    "new_string = string.replace('o', 'a', 1)\n",
    "print(new_string)  # Output: \"Hella, World!\"\n",
    "\n",
    "original_string = \"hello, world\"\n",
    "new_string = original_string.replace('o', 'a', 1)  # Replace the first occurrence of 'o' with 'a'\n",
    "\n",
    "print(new_string)  # Output: \"hella, world\""
   ]
  }
 ],
 "metadata": {
  "kernelspec": {
   "display_name": "Python 3",
   "language": "python",
   "name": "python3"
  },
  "language_info": {
   "codemirror_mode": {
    "name": "ipython",
    "version": 3
   },
   "file_extension": ".py",
   "mimetype": "text/x-python",
   "name": "python",
   "nbconvert_exporter": "python",
   "pygments_lexer": "ipython3",
   "version": "3.8.10"
  }
 },
 "nbformat": 4,
 "nbformat_minor": 4
}
