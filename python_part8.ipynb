{
 "cells": [
  {
   "cell_type": "code",
   "execution_count": 17,
   "metadata": {},
   "outputs": [],
   "source": [
    "import os\n",
    "import sys"
   ]
  },
  {
   "cell_type": "code",
   "execution_count": 18,
   "metadata": {},
   "outputs": [
    {
     "name": "stdout",
     "output_type": "stream",
     "text": [
      "Current Directory: /home/bogdan/Desktop/Python_data_structures_algorithms\n"
     ]
    }
   ],
   "source": [
    "# Get the current working directory\n",
    "\n",
    "current_directory = os.getcwd()\n",
    "print(\"Current Directory:\", current_directory)\n",
    "\n",
    "# List all files in the specified directory\n",
    "files = os.listdir(current_directory)\n",
    "\n",
    "# Filter out only files (excluding directories)\n",
    "files = [f for f in files if os.path.isfile(os.path.join(current_directory, f))]\n",
    "\n",
    "# print(\"Files in the folder:\", files)\n",
    "# print(\"Files in the directory:\\n\" + '\\n'.join(files))"
   ]
  },
  {
   "cell_type": "code",
   "execution_count": 19,
   "metadata": {},
   "outputs": [],
   "source": [
    "# The pickle library in Python is used for serializing and deserializing Python objects, \n",
    "# also known as \"pickling\" and \"unpickling.\" \n",
    "\n",
    "# Serialization refers to the process of converting a Python object \n",
    "# (like a list, dictionary, or custom class instance) into a byte stream \n",
    "# that can be stored in a file or sent over a network. \n",
    "\n",
    "# Deserialization is the reverse process, where the byte stream is converted back into a Python object.\n",
    "\n",
    "# Key Functions in the pickle Library:\n",
    "\n",
    "# pickle.dump(obj, file): This function serializes (pickles) the object obj and writes it \n",
    "#                         to an open file object file.\n",
    "\n",
    "# pickle.load(file): This function reads a pickled object from a file and \n",
    "#                    deserializes (unpickles) it, returning the original Python object.\n",
    "    \n",
    "# pickle.dumps(obj): Similar to dump, but instead of writing to a file, \n",
    "#                    it returns the pickled object as a byte stream.\n",
    "\n",
    "# pickle.loads(byte_stream): Similar to load, but instead of reading from a file, \n",
    "#                    it loads the object from a byte stream."
   ]
  },
  {
   "cell_type": "code",
   "execution_count": 20,
   "metadata": {},
   "outputs": [],
   "source": [
    "import pickle"
   ]
  },
  {
   "cell_type": "code",
   "execution_count": 21,
   "metadata": {},
   "outputs": [
    {
     "name": "stdout",
     "output_type": "stream",
     "text": [
      "['Python', 3]\n",
      "Python 3 \n",
      "\n",
      "['Physics', 4]\n",
      "Physics 4 \n",
      "\n"
     ]
    }
   ],
   "source": [
    "courses = [[\"Python\", 3],\n",
    "           [\"Trig\", 3],\n",
    "           [\"Physics\", 4],\n",
    "           [\"Yoga\", 2]]\n",
    "\n",
    "with open(\"classes.bin\", \"wb\") as file:\n",
    "          pickle.dump(courses, file)\n",
    "    \n",
    "with open(\"classes.bin\", \"rb\") as file:\n",
    "         course_list = pickle.load(file)\n",
    "        \n",
    "i = 0\n",
    "while i < len(course_list):\n",
    "       course = course_list[i]\n",
    "       print(course) \n",
    "       print(course[0], course[1], end=\" \")\n",
    "       print(\"\\n\") \n",
    "       i += 2"
   ]
  },
  {
   "cell_type": "code",
   "execution_count": 22,
   "metadata": {},
   "outputs": [
    {
     "name": "stdout",
     "output_type": "stream",
     "text": [
      "[['Python', 3], ['Trig', 3], ['Physics', 4], ['Yoga', 2]]\n",
      "[['Python', 3], ['Trig', 3], ['Physics', 4], ['Yoga', 2]]\n",
      "4\n"
     ]
    }
   ],
   "source": [
    "print(courses)\n",
    "print(course_list)\n",
    "print(len(course_list))"
   ]
  },
  {
   "cell_type": "code",
   "execution_count": 23,
   "metadata": {},
   "outputs": [
    {
     "name": "stdout",
     "output_type": "stream",
     "text": [
      "the course list:\n",
      "[['Python', '3'], ['Trig', '3'], ['Physics', '4'], ['Yoga', '2']]\n",
      "0\n",
      "['Python', '3']\n",
      "Python (3)\n",
      "1\n",
      "['Trig', '3']\n",
      "Trig (3)\n"
     ]
    }
   ],
   "source": [
    "import csv\n",
    "\n",
    "courses = [[\"Python\", 3],\n",
    "           [\"Trig\", 3],\n",
    "           [\"Physics\", 4],\n",
    "           [\"Yoga\", 2]]\n",
    "\n",
    "with open(\"zcourses.csv\", \"w\", newline=\"\") as file:\n",
    "        writer = csv.writer(file)\n",
    "        writer.writerows(courses)\n",
    "\n",
    "course_list = []\n",
    "\n",
    "with open(\"zcourses.csv\", newline=\"\") as file:\n",
    "        reader = csv.reader(file)\n",
    "        for row in reader:\n",
    "            course_list.append(row)\n",
    "\n",
    "print(\"the course list:\")\n",
    "print(course_list)\n",
    "\n",
    "for i in range(len(course_list) - 2):\n",
    "        print(i)\n",
    "        course = course_list[i]\n",
    "        print(course)\n",
    "        print(f\"{course[0]} ({course[1]})\")"
   ]
  },
  {
   "cell_type": "code",
   "execution_count": 24,
   "metadata": {},
   "outputs": [
    {
     "name": "stdout",
     "output_type": "stream",
     "text": [
      "['Python', '3']\n",
      "Python\n",
      "3\n",
      "['Trig', '3']\n",
      "Trig\n",
      "3\n"
     ]
    }
   ],
   "source": [
    "print(course_list[0])\n",
    "print(course_list[0][0])\n",
    "print(course_list[0][1])\n",
    "\n",
    "print(course_list[1])\n",
    "print(course_list[1][0])\n",
    "print(course_list[1][1])"
   ]
  },
  {
   "cell_type": "code",
   "execution_count": 29,
   "metadata": {},
   "outputs": [],
   "source": [
    "# EXCEPTIONS in PYTHON"
   ]
  },
  {
   "cell_type": "code",
   "execution_count": 30,
   "metadata": {},
   "outputs": [],
   "source": [
    "# In Python, exceptions are errors that occur during the execution of a program. \n",
    "# When such errors occur, Python raises an exception that can either be handled or cause the program to terminate. "
   ]
  },
  {
   "cell_type": "code",
   "execution_count": 31,
   "metadata": {},
   "outputs": [],
   "source": [
    "# source : GPT"
   ]
  },
  {
   "cell_type": "code",
   "execution_count": null,
   "metadata": {},
   "outputs": [],
   "source": [
    "'''1. ArithmeticError\n",
    "\n",
    "    Base class for all errors that occur for numeric calculations.\n",
    "    Examples:\n",
    "        ZeroDivisionError: Raised when dividing by zero.\n",
    "        OverflowError: Raised when the result of an arithmetic operation is too large to be expressed \n",
    "                       within the range of the data type.\n",
    "        FloatingPointError: Raised when a floating-point operation fails.\n",
    "'''"
   ]
  },
  {
   "cell_type": "code",
   "execution_count": null,
   "metadata": {},
   "outputs": [],
   "source": [
    "'''\n",
    "2. AttributeError\n",
    "\n",
    "    Raised when an invalid attribute reference or assignment is attempted on an object \n",
    "    (i.e., the object does not have the specified attribute).\n",
    "'''"
   ]
  },
  {
   "cell_type": "code",
   "execution_count": null,
   "metadata": {},
   "outputs": [],
   "source": [
    "'''\n",
    "3. EOFError\n",
    "\n",
    "    Raised when the input() function hits an end-of-file condition (EOF) without reading any data.\n",
    "'''"
   ]
  },
  {
   "cell_type": "code",
   "execution_count": null,
   "metadata": {},
   "outputs": [],
   "source": [
    "'''\n",
    "4. ImportError\n",
    "\n",
    "    Raised when an import statement fails to import a module.\n",
    "    ModuleNotFoundError: A subclass of ImportError, raised when the module cannot be found.\n",
    "'''"
   ]
  },
  {
   "cell_type": "code",
   "execution_count": null,
   "metadata": {},
   "outputs": [],
   "source": [
    "'''\n",
    "5. IndexError\n",
    "\n",
    "    Raised when an index is out of range in a list, tuple, or other sequence.\n",
    "'''"
   ]
  },
  {
   "cell_type": "code",
   "execution_count": null,
   "metadata": {},
   "outputs": [],
   "source": [
    "'''\n",
    "6. KeyError\n",
    "\n",
    "    Raised when a dictionary is accessed with a key that does not exist.\n",
    "'''"
   ]
  },
  {
   "cell_type": "code",
   "execution_count": null,
   "metadata": {},
   "outputs": [],
   "source": [
    "'''\n",
    "7. NameError\n",
    "\n",
    "    Raised when a local or global name is not found.\n",
    "'''"
   ]
  },
  {
   "cell_type": "code",
   "execution_count": null,
   "metadata": {},
   "outputs": [],
   "source": [
    "'''\n",
    "8. TypeError\n",
    "\n",
    "    Raised when an operation or function is applied to an object of inappropriate type.\n",
    "'''"
   ]
  },
  {
   "cell_type": "code",
   "execution_count": null,
   "metadata": {},
   "outputs": [],
   "source": [
    "'''\n",
    "9. ValueError\n",
    "\n",
    "    Raised when a function receives an argument of the correct type but an inappropriate value.\n",
    "'''"
   ]
  },
  {
   "cell_type": "code",
   "execution_count": null,
   "metadata": {},
   "outputs": [],
   "source": [
    "'''\n",
    "10. FileNotFoundError\n",
    "\n",
    "    Raised when trying to open a file that does not exist.\n",
    "'''"
   ]
  },
  {
   "cell_type": "code",
   "execution_count": null,
   "metadata": {},
   "outputs": [],
   "source": [
    "'''\n",
    "11. OSError\n",
    "\n",
    "    Raised when a system function returns a system-related error (e.g., file-related errors).\n",
    "    Examples:\n",
    "        FileExistsError: Raised when trying to create a file that already exists.\n",
    "        PermissionError: Raised when there is a permission issue with file operations.\n",
    "'''"
   ]
  },
  {
   "cell_type": "code",
   "execution_count": null,
   "metadata": {},
   "outputs": [],
   "source": [
    "'''\n",
    "12. RuntimeError\n",
    "\n",
    "    Raised when an error does not fall under any other category.\n",
    "'''"
   ]
  },
  {
   "cell_type": "code",
   "execution_count": null,
   "metadata": {},
   "outputs": [],
   "source": [
    "'''\n",
    "13. StopIteration\n",
    "\n",
    "    Raised to signal the end of an iterator.\n",
    "'''"
   ]
  },
  {
   "cell_type": "code",
   "execution_count": null,
   "metadata": {},
   "outputs": [],
   "source": [
    "'''\n",
    "14. IndentationError\n",
    "\n",
    "    Raised when indentation is incorrect (common in Python due to its strict indentation rules).\n",
    "    Examples:\n",
    "        TabError: Raised when mixing tabs and spaces.\n",
    "'''"
   ]
  },
  {
   "cell_type": "code",
   "execution_count": null,
   "metadata": {},
   "outputs": [],
   "source": [
    "'''\n",
    "15. MemoryError\n",
    "\n",
    "    Raised when an operation runs out of memory but can be recovered.\n",
    "'''"
   ]
  },
  {
   "cell_type": "code",
   "execution_count": null,
   "metadata": {},
   "outputs": [],
   "source": [
    "'''\n",
    "16. RecursionError\n",
    "\n",
    "    Raised when the maximum recursion depth is exceeded.\n",
    "'''"
   ]
  },
  {
   "cell_type": "code",
   "execution_count": null,
   "metadata": {},
   "outputs": [],
   "source": [
    "'''\n",
    "17. AssertionError\n",
    "\n",
    "    Raised when an assert statement fails.\n",
    "'''"
   ]
  },
  {
   "cell_type": "code",
   "execution_count": null,
   "metadata": {},
   "outputs": [],
   "source": [
    "'''\n",
    "18. SystemExit\n",
    "\n",
    "    Raised when sys.exit() is called to exit the program.\n",
    "'''"
   ]
  },
  {
   "cell_type": "code",
   "execution_count": null,
   "metadata": {},
   "outputs": [],
   "source": [
    "'''\n",
    "19. KeyboardInterrupt\n",
    "\n",
    "    Raised when the user interrupts program execution, usually by pressing Ctrl+C.\n",
    "'''"
   ]
  },
  {
   "cell_type": "code",
   "execution_count": null,
   "metadata": {},
   "outputs": [],
   "source": [
    "'''\n",
    "20. NotImplementedError\n",
    "\n",
    "    Raised when an abstract method that should have been implemented in a subclass is called.\n",
    "'''"
   ]
  },
  {
   "cell_type": "code",
   "execution_count": 1,
   "metadata": {},
   "outputs": [
    {
     "name": "stdout",
     "output_type": "stream",
     "text": [
      "Cannot divide by zero: division by zero\n"
     ]
    }
   ],
   "source": [
    "# Handling Exceptions:\n",
    "\n",
    "# Exceptions can be handled using try and except blocks:\n",
    "\n",
    "try:\n",
    "    # Code that might raise an exception\n",
    "    x = 1 / 0\n",
    "except ZeroDivisionError as e:\n",
    "    print(\"Cannot divide by zero:\", e)"
   ]
  },
  {
   "cell_type": "code",
   "execution_count": 16,
   "metadata": {},
   "outputs": [
    {
     "name": "stdout",
     "output_type": "stream",
     "text": [
      "Enter a number: 12\n",
      "Exception occurred: Invalid Age\n"
     ]
    }
   ],
   "source": [
    "# Custom Exceptions:\n",
    "# https://www.programiz.com/python-programming/user-defined-exception\n",
    "\n",
    "# define Python user-defined exceptions\n",
    "class InvalidAgeException(Exception):\n",
    "    \"Raised when the input value is less than 18\"\n",
    "    pass\n",
    "\n",
    "# you need to guess a number\n",
    "number = 18\n",
    "\n",
    "try:\n",
    "    \n",
    "    input_num = int(input(\"Enter a number: \"))\n",
    "    if input_num < number:\n",
    "        raise InvalidAgeException\n",
    "    else:\n",
    "        print(\"Eligible to Vote\")\n",
    "        \n",
    "except InvalidAgeException:\n",
    "    print(\"Exception occurred: Invalid Age\")"
   ]
  },
  {
   "cell_type": "code",
   "execution_count": null,
   "metadata": {},
   "outputs": [],
   "source": []
  }
 ],
 "metadata": {
  "kernelspec": {
   "display_name": "Python 3",
   "language": "python",
   "name": "python3"
  },
  "language_info": {
   "codemirror_mode": {
    "name": "ipython",
    "version": 3
   },
   "file_extension": ".py",
   "mimetype": "text/x-python",
   "name": "python",
   "nbconvert_exporter": "python",
   "pygments_lexer": "ipython3",
   "version": "3.8.10"
  }
 },
 "nbformat": 4,
 "nbformat_minor": 4
}
